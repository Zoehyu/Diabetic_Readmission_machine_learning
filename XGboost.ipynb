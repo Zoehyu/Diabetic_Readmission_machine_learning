{
 "cells": [
  {
   "cell_type": "code",
   "execution_count": 1,
   "metadata": {},
   "outputs": [],
   "source": [
    "import numpy as np \n",
    "import pandas as pd\n",
    "\n",
    "from sklearn.model_selection import RandomizedSearchCV\n",
    "from sklearn.model_selection import GridSearchCV\n",
    "import seaborn as sns\n",
    "import sklearn.metrics as metrics\n",
    "from sklearn.model_selection import train_test_split\n",
    "from sklearn.ensemble import RandomForestClassifier\n",
    "from sklearn.metrics import classification_report\n",
    "from sklearn.metrics import accuracy_score\n",
    "from sklearn.metrics import confusion_matrix\n",
    "from sklearn.metrics import roc_auc_score\n",
    "import xgboost as xgb\n",
    "from sklearn.metrics import roc_curve, auc\n",
    "from sklearn.preprocessing import label_binarize\n",
    "from sklearn import metrics\n",
    "import matplotlib.pyplot as plt\n",
    "import warnings\n",
    "warnings.filterwarnings(\"ignore\")"
   ]
  },
  {
   "cell_type": "code",
   "execution_count": 2,
   "metadata": {},
   "outputs": [],
   "source": [
    "import pickle\n",
    "X_train_smote = pickle.load(open(\"X_train_smote.p\", \"rb\"))\n",
    "X_test = pickle.load(open(\"X_test.p\", \"rb\"))\n",
    "y_train_smote = pickle.load(open(\"y_train_smote.p\", \"rb\"))\n",
    "y_test = pickle.load(open(\"y_test.p\", \"rb\" ))\n"
   ]
  },
  {
   "cell_type": "code",
   "execution_count": 3,
   "metadata": {},
   "outputs": [],
   "source": [
    "n_estimators = range(100, 1000, 50)\n",
    "learning_rate = [0.1,0.2,0.3,0.4,0.5,0.6,0.7,0.8,0.9,1,1.1,1.2,1.3,1.4,1.5,1.6]\n",
    "gamma = [0,0.25,0.5,0.75,1,1.25,1.5,1.75,2,2.25,2.5,2.75,3,3.25,3.5,3.75,4,4.25,4.5,4.75,5]\n",
    "max_depth = [1,2]\n",
    "param = dict(n_estimators=n_estimators,\n",
    "             learning_rate = learning_rate,\n",
    "             gamma = gamma,\n",
    "             max_depth = max_depth )"
   ]
  },
  {
   "cell_type": "code",
   "execution_count": 4,
   "metadata": {},
   "outputs": [],
   "source": [
    "XGclf = xgb.XGBClassifier()\n",
    "XGclf_Rand = RandomizedSearchCV(XGclf, param, cv = 5, scoring = 'roc_auc')"
   ]
  },
  {
   "cell_type": "code",
   "execution_count": 5,
   "metadata": {},
   "outputs": [
    {
     "data": {
      "text/plain": [
       "RandomizedSearchCV(cv=5,\n",
       "                   estimator=XGBClassifier(base_score=None, booster=None,\n",
       "                                           colsample_bylevel=None,\n",
       "                                           colsample_bynode=None,\n",
       "                                           colsample_bytree=None, gamma=None,\n",
       "                                           gpu_id=None, importance_type='gain',\n",
       "                                           interaction_constraints=None,\n",
       "                                           learning_rate=None,\n",
       "                                           max_delta_step=None, max_depth=None,\n",
       "                                           min_child_weight=None, missing=nan,\n",
       "                                           monotone_constraints=None,\n",
       "                                           n_estimators=100,...\n",
       "                                           scale_pos_weight=None,\n",
       "                                           subsample=None, tree_method=None,\n",
       "                                           validate_parameters=None,\n",
       "                                           verbosity=None),\n",
       "                   param_distributions={'gamma': [0, 0.25, 0.5, 0.75, 1, 1.25,\n",
       "                                                  1.5, 1.75, 2, 2.25, 2.5, 2.75,\n",
       "                                                  3, 3.25, 3.5, 3.75, 4, 4.25,\n",
       "                                                  4.5, 4.75, 5],\n",
       "                                        'learning_rate': [0.1, 0.2, 0.3, 0.4,\n",
       "                                                          0.5, 0.6, 0.7, 0.8,\n",
       "                                                          0.9, 1, 1.1, 1.2, 1.3,\n",
       "                                                          1.4, 1.5, 1.6],\n",
       "                                        'max_depth': [1, 2],\n",
       "                                        'n_estimators': range(100, 1000, 50)},\n",
       "                   scoring='roc_auc')"
      ]
     },
     "execution_count": 5,
     "metadata": {},
     "output_type": "execute_result"
    }
   ],
   "source": [
    "XGclf_Rand.fit(X_train_smote, y_train_smote)"
   ]
  },
  {
   "cell_type": "code",
   "execution_count": 6,
   "metadata": {},
   "outputs": [
    {
     "data": {
      "text/plain": [
       "{'n_estimators': 800, 'max_depth': 2, 'learning_rate': 0.3, 'gamma': 1.75}"
      ]
     },
     "execution_count": 6,
     "metadata": {},
     "output_type": "execute_result"
    }
   ],
   "source": [
    "XGclf_Rand.best_params_"
   ]
  },
  {
   "cell_type": "code",
   "execution_count": 7,
   "metadata": {},
   "outputs": [
    {
     "data": {
      "text/plain": [
       "XGBClassifier(base_score=0.5, booster='gbtree', colsample_bylevel=1,\n",
       "              colsample_bynode=1, colsample_bytree=1, gamma=1.75, gpu_id=-1,\n",
       "              importance_type='gain', interaction_constraints='',\n",
       "              learning_rate=0.3, max_delta_step=0, max_depth=2,\n",
       "              min_child_weight=1, missing=nan, monotone_constraints='()',\n",
       "              n_estimators=800, n_jobs=0, num_parallel_tree=1, random_state=0,\n",
       "              reg_alpha=0, reg_lambda=1, scale_pos_weight=1, subsample=1,\n",
       "              tree_method='exact', validate_parameters=1, verbosity=None)"
      ]
     },
     "execution_count": 7,
     "metadata": {},
     "output_type": "execute_result"
    }
   ],
   "source": [
    "XGclf_Rand.best_estimator_"
   ]
  },
  {
   "cell_type": "code",
   "execution_count": 8,
   "metadata": {},
   "outputs": [
    {
     "data": {
      "text/plain": [
       "XGBClassifier(base_score=0.5, booster='gbtree', colsample_bylevel=1,\n",
       "              colsample_bynode=1, colsample_bytree=1, gamma=0, gpu_id=-1,\n",
       "              importance_type='gain', interaction_constraints='',\n",
       "              learning_rate=0.5, max_delta_step=0, max_depth=2,\n",
       "              min_child_weight=1, missing=nan, monotone_constraints='()',\n",
       "              n_estimators=800, n_jobs=0, num_parallel_tree=1, random_state=0,\n",
       "              reg_alpha=0, reg_lambda=1, scale_pos_weight=1, subsample=1,\n",
       "              tree_method='exact', validate_parameters=1, verbosity=None)"
      ]
     },
     "execution_count": 8,
     "metadata": {},
     "output_type": "execute_result"
    }
   ],
   "source": [
    "XGclf1 = xgb.XGBClassifier(base_score=0.5, booster='gbtree', colsample_bylevel=1,\n",
    "                           colsample_bynode=1, colsample_bytree=1, gamma=0, gpu_id=-1,\n",
    "                           importance_type='gain', interaction_constraints='',\n",
    "                           learning_rate=0.5, max_delta_step=0, max_depth=2,\n",
    "                           min_child_weight=1, monotone_constraints='()',\n",
    "                           n_estimators=800, n_jobs=0, num_parallel_tree=1, random_state=0,\n",
    "                           reg_alpha=0, reg_lambda=1, scale_pos_weight=1, subsample=1,\n",
    "                           tree_method='exact', validate_parameters=1, verbosity=None)\n",
    "XGclf1.fit(X_train_smote, y_train_smote)"
   ]
  },
  {
   "cell_type": "code",
   "execution_count": 9,
   "metadata": {},
   "outputs": [],
   "source": [
    "y_pred4 = XGclf1.predict(X_test)\n",
    "XGclf1_predict_proba = XGclf1.predict_proba(X_test)"
   ]
  },
  {
   "cell_type": "code",
   "execution_count": 10,
   "metadata": {},
   "outputs": [
    {
     "name": "stdout",
     "output_type": "stream",
     "text": [
      "              precision    recall  f1-score   support\n",
      "\n",
      "           0       0.90      0.89      0.89     26535\n",
      "           1       0.17      0.18      0.17      3313\n",
      "\n",
      "    accuracy                           0.81     29848\n",
      "   macro avg       0.53      0.53      0.53     29848\n",
      "weighted avg       0.82      0.81      0.81     29848\n",
      "\n",
      "accuracy score is : 0.8074242830340391\n"
     ]
    }
   ],
   "source": [
    "# c) Calculate the confusion matrix and classification report \n",
    "# d) Calculate the AUC score\n",
    "print(classification_report(y_test, y_pred4))\n",
    "print(\"accuracy score is :\", accuracy_score(y_test, y_pred4))"
   ]
  },
  {
   "cell_type": "code",
   "execution_count": 11,
   "metadata": {},
   "outputs": [
    {
     "name": "stdout",
     "output_type": "stream",
     "text": [
      "0.5963997570027365\n"
     ]
    }
   ],
   "source": [
    "XGclf1_pred = XGclf1_predict_proba[:,1]\n",
    "print(roc_auc_score(y_test, XGclf1_pred))"
   ]
  },
  {
   "cell_type": "code",
   "execution_count": 12,
   "metadata": {},
   "outputs": [],
   "source": [
    "names = ['number_inpatient',\n",
    " 'discharge_disposition_id',\n",
    " 'number_emergency',\n",
    " 'num_medications',\n",
    " 'time_in_hospital',\n",
    " 'num_lab_procedures',\n",
    " 'DXDiabetes',\n",
    " 'number_outpatient',\n",
    " 'DXHypertension',\n",
    " 'number_diagnoses',\n",
    " 'DXHTN_Kidney',\n",
    " 'insulin_Down',\n",
    " 'DXHeartFailure',\n",
    " 'DXResp',\n",
    " 'insulin_No',\n",
    " 'diabetesMed_No',\n",
    " 'Med_Spec_Cardiology',\n",
    " 'DXLipid',\n",
    " 'DXHeartDisease',\n",
    " 'insulin_Up',\n",
    " 'metformin_Steady',\n",
    " 'age_50-60)',\n",
    " 'Med_Spec_Nephrology',\n",
    " 'num_procedures',\n",
    " 'Med_Spec_Other',\n",
    " 'change_Ch',\n",
    " 'DXDevice',\n",
    " 'age_10-20)',\n",
    " 'change_No',\n",
    " 'diabetesMed_Yes',\n",
    " 'age_20-30)',\n",
    " 'admission_type_id',\n",
    " 'age_0-10)',\n",
    " 'DXFluid',\n",
    " 'age_80-90)',\n",
    " 'max_glu_serum_300',\n",
    " 'DXPneumonia',\n",
    " 'A1Cresult_Norm',\n",
    " 'A1Cresult_8',\n",
    " 'metformin_No']"
   ]
  },
  {
   "cell_type": "code",
   "execution_count": 13,
   "metadata": {},
   "outputs": [
    {
     "data": {
      "text/plain": [
       "<AxesSubplot:>"
      ]
     },
     "execution_count": 13,
     "metadata": {},
     "output_type": "execute_result"
    },
    {
     "data": {
      "image/png": "[encoded data removed]",
      "text/plain": [
       "<Figure size 432x288 with 1 Axes>"
      ]
     },
     "metadata": {
      "needs_background": "light"
     },
     "output_type": "display_data"
    }
   ],
   "source": [
    "XGclf_best = XGclf_Rand.best_estimator_\n",
    "(pd.Series(XGclf_best.feature_importances_, names)\n",
    "   .nlargest(10)\n",
    "   .plot(kind='barh'))"
   ]
  },
  {
   "cell_type": "code",
   "execution_count": 14,
   "metadata": {},
   "outputs": [
    {
     "name": "stdout",
     "output_type": "stream",
     "text": [
      "              precision    recall  f1-score   support\n",
      "\n",
      "           0       0.84      0.89      0.86     61788\n",
      "           1       0.88      0.83      0.86     61788\n",
      "\n",
      "    accuracy                           0.86    123576\n",
      "   macro avg       0.86      0.86      0.86    123576\n",
      "weighted avg       0.86      0.86      0.86    123576\n",
      "\n",
      "accuracy score is : 0.8609681491551757\n"
     ]
    }
   ],
   "source": [
    "# f) predict for the train data. \n",
    "y_pred_train = XGclf1.predict(X_train_smote)\n",
    "print(classification_report(y_train_smote, y_pred_train))\n",
    "print(\"accuracy score is :\", accuracy_score(y_train_smote, y_pred_train))"
   ]
  },
  {
   "cell_type": "code",
   "execution_count": 15,
   "metadata": {},
   "outputs": [
    {
     "data": {
      "text/html": [
       "<div>\n",
       "<style scoped>\n",
       "    .dataframe tbody tr th:only-of-type {\n",
       "        vertical-align: middle;\n",
       "    }\n",
       "\n",
       "    .dataframe tbody tr th {\n",
       "        vertical-align: top;\n",
       "    }\n",
       "\n",
       "    .dataframe thead th {\n",
       "        text-align: right;\n",
       "    }\n",
       "</style>\n",
       "<table border=\"1\" class=\"dataframe\">\n",
       "  <thead>\n",
       "    <tr style=\"text-align: right;\">\n",
       "      <th></th>\n",
       "      <th>importance</th>\n",
       "    </tr>\n",
       "  </thead>\n",
       "  <tbody>\n",
       "    <tr>\n",
       "      <th>change_Ch</th>\n",
       "      <td>0.098632</td>\n",
       "    </tr>\n",
       "    <tr>\n",
       "      <th>diabetesMed_No</th>\n",
       "      <td>0.075051</td>\n",
       "    </tr>\n",
       "    <tr>\n",
       "      <th>metformin_Steady</th>\n",
       "      <td>0.072154</td>\n",
       "    </tr>\n",
       "    <tr>\n",
       "      <th>insulin_No</th>\n",
       "      <td>0.069620</td>\n",
       "    </tr>\n",
       "    <tr>\n",
       "      <th>change_No</th>\n",
       "      <td>0.058846</td>\n",
       "    </tr>\n",
       "    <tr>\n",
       "      <th>DXDiabetes</th>\n",
       "      <td>0.046286</td>\n",
       "    </tr>\n",
       "    <tr>\n",
       "      <th>diabetesMed_Yes</th>\n",
       "      <td>0.043542</td>\n",
       "    </tr>\n",
       "    <tr>\n",
       "      <th>DXFluid</th>\n",
       "      <td>0.040955</td>\n",
       "    </tr>\n",
       "    <tr>\n",
       "      <th>age_50-60)</th>\n",
       "      <td>0.040682</td>\n",
       "    </tr>\n",
       "    <tr>\n",
       "      <th>DXHypertension</th>\n",
       "      <td>0.039759</td>\n",
       "    </tr>\n",
       "    <tr>\n",
       "      <th>age_80-90)</th>\n",
       "      <td>0.039395</td>\n",
       "    </tr>\n",
       "    <tr>\n",
       "      <th>Med_Spec_Other</th>\n",
       "      <td>0.034471</td>\n",
       "    </tr>\n",
       "    <tr>\n",
       "      <th>DXHeartFailure</th>\n",
       "      <td>0.028480</td>\n",
       "    </tr>\n",
       "    <tr>\n",
       "      <th>A1Cresult_8</th>\n",
       "      <td>0.028345</td>\n",
       "    </tr>\n",
       "    <tr>\n",
       "      <th>A1Cresult_Norm</th>\n",
       "      <td>0.028095</td>\n",
       "    </tr>\n",
       "    <tr>\n",
       "      <th>DXPneumonia</th>\n",
       "      <td>0.026662</td>\n",
       "    </tr>\n",
       "    <tr>\n",
       "      <th>DXHeartDisease</th>\n",
       "      <td>0.026638</td>\n",
       "    </tr>\n",
       "    <tr>\n",
       "      <th>insulin_Up</th>\n",
       "      <td>0.023987</td>\n",
       "    </tr>\n",
       "    <tr>\n",
       "      <th>DXResp</th>\n",
       "      <td>0.022373</td>\n",
       "    </tr>\n",
       "    <tr>\n",
       "      <th>Med_Spec_Cardiology</th>\n",
       "      <td>0.021854</td>\n",
       "    </tr>\n",
       "    <tr>\n",
       "      <th>metformin_No</th>\n",
       "      <td>0.020990</td>\n",
       "    </tr>\n",
       "    <tr>\n",
       "      <th>DXHTN_Kidney</th>\n",
       "      <td>0.020917</td>\n",
       "    </tr>\n",
       "    <tr>\n",
       "      <th>insulin_Down</th>\n",
       "      <td>0.019028</td>\n",
       "    </tr>\n",
       "    <tr>\n",
       "      <th>DXLipid</th>\n",
       "      <td>0.009016</td>\n",
       "    </tr>\n",
       "    <tr>\n",
       "      <th>DXDevice</th>\n",
       "      <td>0.008364</td>\n",
       "    </tr>\n",
       "    <tr>\n",
       "      <th>discharge_disposition_id</th>\n",
       "      <td>0.007710</td>\n",
       "    </tr>\n",
       "    <tr>\n",
       "      <th>admission_type_id</th>\n",
       "      <td>0.007104</td>\n",
       "    </tr>\n",
       "    <tr>\n",
       "      <th>age_20-30)</th>\n",
       "      <td>0.006552</td>\n",
       "    </tr>\n",
       "    <tr>\n",
       "      <th>number_inpatient</th>\n",
       "      <td>0.005783</td>\n",
       "    </tr>\n",
       "    <tr>\n",
       "      <th>num_procedures</th>\n",
       "      <td>0.005736</td>\n",
       "    </tr>\n",
       "    <tr>\n",
       "      <th>number_diagnoses</th>\n",
       "      <td>0.003515</td>\n",
       "    </tr>\n",
       "    <tr>\n",
       "      <th>age_10-20)</th>\n",
       "      <td>0.003402</td>\n",
       "    </tr>\n",
       "    <tr>\n",
       "      <th>number_outpatient</th>\n",
       "      <td>0.003311</td>\n",
       "    </tr>\n",
       "    <tr>\n",
       "      <th>Med_Spec_Nephrology</th>\n",
       "      <td>0.002850</td>\n",
       "    </tr>\n",
       "    <tr>\n",
       "      <th>max_glu_serum_300</th>\n",
       "      <td>0.002240</td>\n",
       "    </tr>\n",
       "    <tr>\n",
       "      <th>time_in_hospital</th>\n",
       "      <td>0.002100</td>\n",
       "    </tr>\n",
       "    <tr>\n",
       "      <th>num_medications</th>\n",
       "      <td>0.001911</td>\n",
       "    </tr>\n",
       "    <tr>\n",
       "      <th>number_emergency</th>\n",
       "      <td>0.001268</td>\n",
       "    </tr>\n",
       "    <tr>\n",
       "      <th>num_lab_procedures</th>\n",
       "      <td>0.001236</td>\n",
       "    </tr>\n",
       "    <tr>\n",
       "      <th>age_0-10)</th>\n",
       "      <td>0.001139</td>\n",
       "    </tr>\n",
       "  </tbody>\n",
       "</table>\n",
       "</div>"
      ],
      "text/plain": [
       "                          importance\n",
       "change_Ch                   0.098632\n",
       "diabetesMed_No              0.075051\n",
       "metformin_Steady            0.072154\n",
       "insulin_No                  0.069620\n",
       "change_No                   0.058846\n",
       "DXDiabetes                  0.046286\n",
       "diabetesMed_Yes             0.043542\n",
       "DXFluid                     0.040955\n",
       "age_50-60)                  0.040682\n",
       "DXHypertension              0.039759\n",
       "age_80-90)                  0.039395\n",
       "Med_Spec_Other              0.034471\n",
       "DXHeartFailure              0.028480\n",
       "A1Cresult_8                 0.028345\n",
       "A1Cresult_Norm              0.028095\n",
       "DXPneumonia                 0.026662\n",
       "DXHeartDisease              0.026638\n",
       "insulin_Up                  0.023987\n",
       "DXResp                      0.022373\n",
       "Med_Spec_Cardiology         0.021854\n",
       "metformin_No                0.020990\n",
       "DXHTN_Kidney                0.020917\n",
       "insulin_Down                0.019028\n",
       "DXLipid                     0.009016\n",
       "DXDevice                    0.008364\n",
       "discharge_disposition_id    0.007710\n",
       "admission_type_id           0.007104\n",
       "age_20-30)                  0.006552\n",
       "number_inpatient            0.005783\n",
       "num_procedures              0.005736\n",
       "number_diagnoses            0.003515\n",
       "age_10-20)                  0.003402\n",
       "number_outpatient           0.003311\n",
       "Med_Spec_Nephrology         0.002850\n",
       "max_glu_serum_300           0.002240\n",
       "time_in_hospital            0.002100\n",
       "num_medications             0.001911\n",
       "number_emergency            0.001268\n",
       "num_lab_procedures          0.001236\n",
       "age_0-10)                   0.001139"
      ]
     },
     "execution_count": 15,
     "metadata": {},
     "output_type": "execute_result"
    }
   ],
   "source": [
    "#feature importance\n",
    "\n",
    "feature_importances = pd.DataFrame(XGclf_best.feature_importances_,\n",
    "                                   index = names,\n",
    "                                   columns=['importance']).sort_values('importance',ascending=False)\n",
    "feature_importances"
   ]
  },
  {
   "cell_type": "code",
   "execution_count": null,
   "metadata": {},
   "outputs": [],
   "source": []
  },
  {
   "cell_type": "code",
   "execution_count": null,
   "metadata": {},
   "outputs": [],
   "source": []
  },
  {
   "cell_type": "code",
   "execution_count": null,
   "metadata": {},
   "outputs": [],
   "source": []
  },
  {
   "cell_type": "code",
   "execution_count": null,
   "metadata": {},
   "outputs": [],
   "source": []
  },
  {
   "cell_type": "code",
   "execution_count": null,
   "metadata": {},
   "outputs": [],
   "source": []
  },
  {
   "cell_type": "code",
   "execution_count": null,
   "metadata": {},
   "outputs": [],
   "source": []
  },
  {
   "cell_type": "code",
   "execution_count": null,
   "metadata": {},
   "outputs": [],
   "source": []
  },
  {
   "cell_type": "code",
   "execution_count": null,
   "metadata": {},
   "outputs": [],
   "source": []
  },
  {
   "cell_type": "code",
   "execution_count": null,
   "metadata": {},
   "outputs": [],
   "source": []
  },
  {
   "cell_type": "code",
   "execution_count": null,
   "metadata": {},
   "outputs": [],
   "source": []
  },
  {
   "cell_type": "code",
   "execution_count": null,
   "metadata": {},
   "outputs": [],
   "source": []
  }
 ],
 "metadata": {
  "kernelspec": {
   "display_name": "Python 3",
   "language": "python",
   "name": "python3"
  },
  "language_info": {
   "codemirror_mode": {
    "name": "ipython",
    "version": 3
   },
   "file_extension": ".py",
   "mimetype": "text/x-python",
   "name": "python",
   "nbconvert_exporter": "python",
   "pygments_lexer": "ipython3",
   "version": "3.8.5"
  }
 },
 "nbformat": 4,
 "nbformat_minor": 4
}
