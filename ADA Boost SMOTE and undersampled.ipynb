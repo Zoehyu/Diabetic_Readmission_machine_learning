{
 "cells": [
  {
   "cell_type": "code",
   "execution_count": 1,
   "metadata": {},
   "outputs": [],
   "source": [
    "import numpy as np \n",
    "import pandas as pd\n",
    "\n",
    "from sklearn.model_selection import RandomizedSearchCV\n",
    "from sklearn.model_selection import GridSearchCV\n",
    "import seaborn as sns\n",
    "import matplotlib.pyplot as plt\n",
    "import sklearn.metrics as metrics\n",
    "from sklearn.model_selection import train_test_split"
   ]
  },
  {
   "cell_type": "markdown",
   "metadata": {},
   "source": [
    "# Import"
   ]
  },
  {
   "cell_type": "code",
   "execution_count": 2,
   "metadata": {},
   "outputs": [],
   "source": [
    "import pickle\n",
    "\n",
    "X_test = pickle.load(open(\"X_test.p\", \"rb\"))\n",
    "y_test = pickle.load(open(\"y_test.p\", \"rb\" ))\n",
    "\n",
    "# SMOTE datasets\n",
    "\n",
    "X_train_smote = pickle.load(open(\"X_train_smote.p\", \"rb\"))\n",
    "y_train_smote = pickle.load(open(\"y_train_smote.p\", \"rb\"))\n",
    "\n",
    "# Undersampled datasets\n",
    "\n",
    "X_train_under = pickle.load(open(\"X_train_under.p\", \"rb\" ))\n",
    "y_train_under = pickle.load(open(\"y_train_under.p\", \"rb\" ))\n",
    "\n",
    "X = pickle.load(open(\"X.p\", \"rb\"))\n",
    "Xdf = pd.DataFrame(X)"
   ]
  },
  {
   "cell_type": "code",
   "execution_count": 3,
   "metadata": {},
   "outputs": [],
   "source": [
    "#X_train_under = X_train_under.drop(['age'], axis=1)\n",
    "#X_test = X_test.drop(['age'], axis=1)"
   ]
  },
  {
   "cell_type": "code",
   "execution_count": 4,
   "metadata": {},
   "outputs": [
    {
     "data": {
      "text/plain": [
       "['patient_nbr',\n",
       " 'admission_type_id',\n",
       " 'discharge_disposition_id',\n",
       " 'admission_source_id',\n",
       " 'time_in_hospital',\n",
       " 'num_lab_procedures',\n",
       " 'num_procedures',\n",
       " 'num_medications',\n",
       " 'number_outpatient',\n",
       " 'number_emergency',\n",
       " 'number_inpatient',\n",
       " 'number_diagnoses',\n",
       " 'Numeric_diag_1',\n",
       " 'Numeric_diag_2',\n",
       " 'Numeric_diag_3',\n",
       " 'race_AfricanAmerican',\n",
       " 'race_Asian',\n",
       " 'race_Caucasian',\n",
       " 'race_Hispanic',\n",
       " 'race_Other',\n",
       " 'gender_Female',\n",
       " 'gender_Male',\n",
       " 'age_0-10)',\n",
       " 'age_10-20)',\n",
       " 'age_20-30)',\n",
       " 'age_30-40)',\n",
       " 'age_40-50)',\n",
       " 'age_50-60)',\n",
       " 'age_60-70)',\n",
       " 'age_70-80)',\n",
       " 'age_80-90)',\n",
       " 'age_90-100)',\n",
       " 'Med_Spec_Missing',\n",
       " 'Med_Spec_InternalMedicine',\n",
       " 'Med_Spec_Emergency/Trauma',\n",
       " 'Med_Spec_Family/GeneralPractice',\n",
       " 'Med_Spec_Cardiology',\n",
       " 'Med_Spec_Surgery-General',\n",
       " 'Med_Spec_Nephrology',\n",
       " 'Med_Spec_Other',\n",
       " 'DXDiabetes',\n",
       " 'DXLipid',\n",
       " 'DXFluid',\n",
       " 'DXHypertension',\n",
       " 'DXHTN_Kidney',\n",
       " 'DXHeartAttack',\n",
       " 'DXHeartDisease',\n",
       " 'DXDysrhythm',\n",
       " 'DXHeartFailure',\n",
       " 'DXCVD',\n",
       " 'DXPneumonia',\n",
       " 'DXAirway',\n",
       " 'DXUrethra',\n",
       " 'DXCellutitis',\n",
       " 'DXOsteo',\n",
       " 'DXResp',\n",
       " 'DXDevice',\n",
       " 'max_glu_serum_200',\n",
       " 'max_glu_serum_300',\n",
       " 'max_glu_serum_None',\n",
       " 'max_glu_serum_Norm',\n",
       " 'A1Cresult_7',\n",
       " 'A1Cresult_8',\n",
       " 'A1Cresult_None',\n",
       " 'A1Cresult_Norm',\n",
       " 'metformin_Down',\n",
       " 'metformin_No',\n",
       " 'metformin_Steady',\n",
       " 'metformin_Up',\n",
       " 'repaglinide_Down',\n",
       " 'repaglinide_No',\n",
       " 'repaglinide_Steady',\n",
       " 'repaglinide_Up',\n",
       " 'nateglinide_Down',\n",
       " 'nateglinide_No',\n",
       " 'nateglinide_Steady',\n",
       " 'nateglinide_Up',\n",
       " 'chlorpropamide_Down',\n",
       " 'chlorpropamide_No',\n",
       " 'chlorpropamide_Steady',\n",
       " 'chlorpropamide_Up',\n",
       " 'glimepiride_Down',\n",
       " 'glimepiride_No',\n",
       " 'glimepiride_Steady',\n",
       " 'glimepiride_Up',\n",
       " 'acetohexamide_No',\n",
       " 'acetohexamide_Steady',\n",
       " 'glipizide_Down',\n",
       " 'glipizide_No',\n",
       " 'glipizide_Steady',\n",
       " 'glipizide_Up',\n",
       " 'glyburide_Down',\n",
       " 'glyburide_No',\n",
       " 'glyburide_Steady',\n",
       " 'glyburide_Up',\n",
       " 'tolbutamide_No',\n",
       " 'tolbutamide_Steady',\n",
       " 'pioglitazone_Down',\n",
       " 'pioglitazone_No',\n",
       " 'pioglitazone_Steady',\n",
       " 'pioglitazone_Up',\n",
       " 'rosiglitazone_Down',\n",
       " 'rosiglitazone_No',\n",
       " 'rosiglitazone_Steady',\n",
       " 'rosiglitazone_Up',\n",
       " 'acarbose_Down',\n",
       " 'acarbose_No',\n",
       " 'acarbose_Steady',\n",
       " 'acarbose_Up',\n",
       " 'miglitol_Down',\n",
       " 'miglitol_No',\n",
       " 'miglitol_Steady',\n",
       " 'miglitol_Up',\n",
       " 'troglitazone_No',\n",
       " 'troglitazone_Steady',\n",
       " 'tolazamide_No',\n",
       " 'tolazamide_Steady',\n",
       " 'tolazamide_Up',\n",
       " 'examide_No',\n",
       " 'citoglipton_No',\n",
       " 'insulin_Down',\n",
       " 'insulin_No',\n",
       " 'insulin_Steady',\n",
       " 'insulin_Up',\n",
       " 'glyburide-metformin_Down',\n",
       " 'glyburide-metformin_No',\n",
       " 'glyburide-metformin_Steady',\n",
       " 'glyburide-metformin_Up',\n",
       " 'glipizide-metformin_No',\n",
       " 'glipizide-metformin_Steady',\n",
       " 'glimepiride-pioglitazone_No',\n",
       " 'glimepiride-pioglitazone_Steady',\n",
       " 'metformin-rosiglitazone_No',\n",
       " 'metformin-pioglitazone_No',\n",
       " 'metformin-pioglitazone_Steady',\n",
       " 'change_Ch',\n",
       " 'change_No',\n",
       " 'diabetesMed_No',\n",
       " 'diabetesMed_Yes']"
      ]
     },
     "execution_count": 4,
     "metadata": {},
     "output_type": "execute_result"
    }
   ],
   "source": [
    "names = list(X.columns)\n",
    "\n",
    "names"
   ]
  },
  {
   "cell_type": "code",
   "execution_count": 5,
   "metadata": {},
   "outputs": [
    {
     "data": {
      "text/plain": [
       "['patient_nbr',\n",
       " 'admission_type_id',\n",
       " 'discharge_disposition_id',\n",
       " 'admission_source_id',\n",
       " 'time_in_hospital',\n",
       " 'num_lab_procedures',\n",
       " 'num_procedures',\n",
       " 'num_medications',\n",
       " 'number_outpatient',\n",
       " 'number_emergency',\n",
       " 'number_inpatient',\n",
       " 'number_diagnoses',\n",
       " 'Numeric_diag_1',\n",
       " 'Numeric_diag_2',\n",
       " 'Numeric_diag_3',\n",
       " 'race_AfricanAmerican',\n",
       " 'race_Asian',\n",
       " 'race_Caucasian',\n",
       " 'race_Hispanic',\n",
       " 'race_Other',\n",
       " 'gender_Female',\n",
       " 'gender_Male',\n",
       " 'age_0-10)',\n",
       " 'age_10-20)',\n",
       " 'age_20-30)',\n",
       " 'age_30-40)',\n",
       " 'age_40-50)',\n",
       " 'age_50-60)',\n",
       " 'age_60-70)',\n",
       " 'age_70-80)',\n",
       " 'age_80-90)',\n",
       " 'age_90-100)',\n",
       " 'Med_Spec_Missing',\n",
       " 'Med_Spec_InternalMedicine',\n",
       " 'Med_Spec_Emergency/Trauma',\n",
       " 'Med_Spec_Family/GeneralPractice',\n",
       " 'Med_Spec_Cardiology',\n",
       " 'Med_Spec_Surgery-General',\n",
       " 'Med_Spec_Nephrology',\n",
       " 'Med_Spec_Other',\n",
       " 'DXDiabetes',\n",
       " 'DXLipid',\n",
       " 'DXFluid',\n",
       " 'DXHypertension',\n",
       " 'DXHTN_Kidney',\n",
       " 'DXHeartAttack',\n",
       " 'DXHeartDisease',\n",
       " 'DXDysrhythm',\n",
       " 'DXHeartFailure',\n",
       " 'DXCVD',\n",
       " 'DXPneumonia',\n",
       " 'DXAirway',\n",
       " 'DXUrethra',\n",
       " 'DXCellutitis',\n",
       " 'DXOsteo',\n",
       " 'DXResp',\n",
       " 'DXDevice',\n",
       " 'max_glu_serum_200',\n",
       " 'max_glu_serum_300',\n",
       " 'max_glu_serum_None',\n",
       " 'max_glu_serum_Norm',\n",
       " 'A1Cresult_7',\n",
       " 'A1Cresult_8',\n",
       " 'A1Cresult_None',\n",
       " 'A1Cresult_Norm',\n",
       " 'metformin_Down',\n",
       " 'metformin_No',\n",
       " 'metformin_Steady',\n",
       " 'metformin_Up',\n",
       " 'repaglinide_Down',\n",
       " 'repaglinide_No',\n",
       " 'repaglinide_Steady',\n",
       " 'repaglinide_Up',\n",
       " 'nateglinide_Down',\n",
       " 'nateglinide_No',\n",
       " 'nateglinide_Steady',\n",
       " 'nateglinide_Up',\n",
       " 'chlorpropamide_Down',\n",
       " 'chlorpropamide_No',\n",
       " 'chlorpropamide_Steady',\n",
       " 'chlorpropamide_Up',\n",
       " 'glimepiride_Down',\n",
       " 'glimepiride_No',\n",
       " 'glimepiride_Steady',\n",
       " 'glimepiride_Up',\n",
       " 'acetohexamide_No',\n",
       " 'acetohexamide_Steady',\n",
       " 'glipizide_Down',\n",
       " 'glipizide_No',\n",
       " 'glipizide_Steady',\n",
       " 'glipizide_Up',\n",
       " 'glyburide_Down',\n",
       " 'glyburide_No',\n",
       " 'glyburide_Steady',\n",
       " 'glyburide_Up',\n",
       " 'tolbutamide_No',\n",
       " 'tolbutamide_Steady',\n",
       " 'pioglitazone_Down',\n",
       " 'pioglitazone_No',\n",
       " 'pioglitazone_Steady',\n",
       " 'pioglitazone_Up',\n",
       " 'rosiglitazone_Down',\n",
       " 'rosiglitazone_No',\n",
       " 'rosiglitazone_Steady',\n",
       " 'rosiglitazone_Up',\n",
       " 'acarbose_Down',\n",
       " 'acarbose_No',\n",
       " 'acarbose_Steady',\n",
       " 'acarbose_Up',\n",
       " 'miglitol_Down',\n",
       " 'miglitol_No',\n",
       " 'miglitol_Steady',\n",
       " 'miglitol_Up',\n",
       " 'troglitazone_No',\n",
       " 'troglitazone_Steady',\n",
       " 'tolazamide_No',\n",
       " 'tolazamide_Steady',\n",
       " 'tolazamide_Up',\n",
       " 'examide_No',\n",
       " 'citoglipton_No',\n",
       " 'insulin_Down',\n",
       " 'insulin_No',\n",
       " 'insulin_Steady',\n",
       " 'insulin_Up',\n",
       " 'glyburide-metformin_Down',\n",
       " 'glyburide-metformin_No',\n",
       " 'glyburide-metformin_Steady',\n",
       " 'glyburide-metformin_Up',\n",
       " 'glipizide-metformin_No',\n",
       " 'glipizide-metformin_Steady',\n",
       " 'glimepiride-pioglitazone_No',\n",
       " 'glimepiride-pioglitazone_Steady',\n",
       " 'metformin-rosiglitazone_No',\n",
       " 'metformin-pioglitazone_No',\n",
       " 'metformin-pioglitazone_Steady',\n",
       " 'change_Ch',\n",
       " 'change_No',\n",
       " 'diabetesMed_No',\n",
       " 'diabetesMed_Yes']"
      ]
     },
     "execution_count": 5,
     "metadata": {},
     "output_type": "execute_result"
    }
   ],
   "source": [
    "namesu = list(X_train_under.columns)\n",
    "\n",
    "namesu"
   ]
  },
  {
   "cell_type": "code",
   "execution_count": 6,
   "metadata": {},
   "outputs": [
    {
     "data": {
      "text/html": [
       "<div>\n",
       "<style scoped>\n",
       "    .dataframe tbody tr th:only-of-type {\n",
       "        vertical-align: middle;\n",
       "    }\n",
       "\n",
       "    .dataframe tbody tr th {\n",
       "        vertical-align: top;\n",
       "    }\n",
       "\n",
       "    .dataframe thead th {\n",
       "        text-align: right;\n",
       "    }\n",
       "</style>\n",
       "<table border=\"1\" class=\"dataframe\">\n",
       "  <thead>\n",
       "    <tr style=\"text-align: right;\">\n",
       "      <th></th>\n",
       "      <th>patient_nbr</th>\n",
       "      <th>admission_type_id</th>\n",
       "      <th>discharge_disposition_id</th>\n",
       "      <th>admission_source_id</th>\n",
       "      <th>time_in_hospital</th>\n",
       "      <th>num_lab_procedures</th>\n",
       "      <th>num_procedures</th>\n",
       "      <th>num_medications</th>\n",
       "      <th>number_outpatient</th>\n",
       "      <th>number_emergency</th>\n",
       "      <th>...</th>\n",
       "      <th>glipizide-metformin_Steady</th>\n",
       "      <th>glimepiride-pioglitazone_No</th>\n",
       "      <th>glimepiride-pioglitazone_Steady</th>\n",
       "      <th>metformin-rosiglitazone_No</th>\n",
       "      <th>metformin-pioglitazone_No</th>\n",
       "      <th>metformin-pioglitazone_Steady</th>\n",
       "      <th>change_Ch</th>\n",
       "      <th>change_No</th>\n",
       "      <th>diabetesMed_No</th>\n",
       "      <th>diabetesMed_Yes</th>\n",
       "    </tr>\n",
       "  </thead>\n",
       "  <tbody>\n",
       "    <tr>\n",
       "      <th>0</th>\n",
       "      <td>90330768</td>\n",
       "      <td>2</td>\n",
       "      <td>1</td>\n",
       "      <td>7</td>\n",
       "      <td>1</td>\n",
       "      <td>38</td>\n",
       "      <td>0</td>\n",
       "      <td>18</td>\n",
       "      <td>0</td>\n",
       "      <td>0</td>\n",
       "      <td>...</td>\n",
       "      <td>0</td>\n",
       "      <td>1</td>\n",
       "      <td>0</td>\n",
       "      <td>1</td>\n",
       "      <td>1</td>\n",
       "      <td>0</td>\n",
       "      <td>0</td>\n",
       "      <td>1</td>\n",
       "      <td>1</td>\n",
       "      <td>0</td>\n",
       "    </tr>\n",
       "    <tr>\n",
       "      <th>1</th>\n",
       "      <td>191691</td>\n",
       "      <td>1</td>\n",
       "      <td>1</td>\n",
       "      <td>6</td>\n",
       "      <td>1</td>\n",
       "      <td>55</td>\n",
       "      <td>0</td>\n",
       "      <td>6</td>\n",
       "      <td>0</td>\n",
       "      <td>0</td>\n",
       "      <td>...</td>\n",
       "      <td>0</td>\n",
       "      <td>1</td>\n",
       "      <td>0</td>\n",
       "      <td>1</td>\n",
       "      <td>1</td>\n",
       "      <td>0</td>\n",
       "      <td>1</td>\n",
       "      <td>0</td>\n",
       "      <td>0</td>\n",
       "      <td>1</td>\n",
       "    </tr>\n",
       "    <tr>\n",
       "      <th>2</th>\n",
       "      <td>84325293</td>\n",
       "      <td>1</td>\n",
       "      <td>6</td>\n",
       "      <td>7</td>\n",
       "      <td>6</td>\n",
       "      <td>59</td>\n",
       "      <td>0</td>\n",
       "      <td>14</td>\n",
       "      <td>0</td>\n",
       "      <td>1</td>\n",
       "      <td>...</td>\n",
       "      <td>0</td>\n",
       "      <td>1</td>\n",
       "      <td>0</td>\n",
       "      <td>1</td>\n",
       "      <td>1</td>\n",
       "      <td>0</td>\n",
       "      <td>0</td>\n",
       "      <td>1</td>\n",
       "      <td>0</td>\n",
       "      <td>1</td>\n",
       "    </tr>\n",
       "    <tr>\n",
       "      <th>3</th>\n",
       "      <td>1346517</td>\n",
       "      <td>2</td>\n",
       "      <td>1</td>\n",
       "      <td>1</td>\n",
       "      <td>2</td>\n",
       "      <td>41</td>\n",
       "      <td>1</td>\n",
       "      <td>10</td>\n",
       "      <td>0</td>\n",
       "      <td>0</td>\n",
       "      <td>...</td>\n",
       "      <td>0</td>\n",
       "      <td>1</td>\n",
       "      <td>0</td>\n",
       "      <td>1</td>\n",
       "      <td>1</td>\n",
       "      <td>0</td>\n",
       "      <td>0</td>\n",
       "      <td>1</td>\n",
       "      <td>0</td>\n",
       "      <td>1</td>\n",
       "    </tr>\n",
       "    <tr>\n",
       "      <th>4</th>\n",
       "      <td>66304629</td>\n",
       "      <td>1</td>\n",
       "      <td>3</td>\n",
       "      <td>7</td>\n",
       "      <td>5</td>\n",
       "      <td>74</td>\n",
       "      <td>0</td>\n",
       "      <td>8</td>\n",
       "      <td>0</td>\n",
       "      <td>0</td>\n",
       "      <td>...</td>\n",
       "      <td>0</td>\n",
       "      <td>1</td>\n",
       "      <td>0</td>\n",
       "      <td>1</td>\n",
       "      <td>1</td>\n",
       "      <td>0</td>\n",
       "      <td>1</td>\n",
       "      <td>0</td>\n",
       "      <td>0</td>\n",
       "      <td>1</td>\n",
       "    </tr>\n",
       "  </tbody>\n",
       "</table>\n",
       "<p>5 rows × 139 columns</p>\n",
       "</div>"
      ],
      "text/plain": [
       "   patient_nbr  admission_type_id  discharge_disposition_id  \\\n",
       "0     90330768                  2                         1   \n",
       "1       191691                  1                         1   \n",
       "2     84325293                  1                         6   \n",
       "3      1346517                  2                         1   \n",
       "4     66304629                  1                         3   \n",
       "\n",
       "   admission_source_id  time_in_hospital  num_lab_procedures  num_procedures  \\\n",
       "0                    7                 1                  38               0   \n",
       "1                    6                 1                  55               0   \n",
       "2                    7                 6                  59               0   \n",
       "3                    1                 2                  41               1   \n",
       "4                    7                 5                  74               0   \n",
       "\n",
       "   num_medications  number_outpatient  number_emergency  ...  \\\n",
       "0               18                  0                 0  ...   \n",
       "1                6                  0                 0  ...   \n",
       "2               14                  0                 1  ...   \n",
       "3               10                  0                 0  ...   \n",
       "4                8                  0                 0  ...   \n",
       "\n",
       "   glipizide-metformin_Steady  glimepiride-pioglitazone_No  \\\n",
       "0                           0                            1   \n",
       "1                           0                            1   \n",
       "2                           0                            1   \n",
       "3                           0                            1   \n",
       "4                           0                            1   \n",
       "\n",
       "   glimepiride-pioglitazone_Steady  metformin-rosiglitazone_No  \\\n",
       "0                                0                           1   \n",
       "1                                0                           1   \n",
       "2                                0                           1   \n",
       "3                                0                           1   \n",
       "4                                0                           1   \n",
       "\n",
       "   metformin-pioglitazone_No  metformin-pioglitazone_Steady  change_Ch  \\\n",
       "0                          1                              0          0   \n",
       "1                          1                              0          1   \n",
       "2                          1                              0          0   \n",
       "3                          1                              0          0   \n",
       "4                          1                              0          1   \n",
       "\n",
       "   change_No  diabetesMed_No  diabetesMed_Yes  \n",
       "0          1               1                0  \n",
       "1          0               0                1  \n",
       "2          1               0                1  \n",
       "3          1               0                1  \n",
       "4          0               0                1  \n",
       "\n",
       "[5 rows x 139 columns]"
      ]
     },
     "execution_count": 6,
     "metadata": {},
     "output_type": "execute_result"
    }
   ],
   "source": [
    "X_train_under.head(5)"
   ]
  },
  {
   "cell_type": "markdown",
   "metadata": {},
   "source": [
    "# ADA Boost\n",
    "## SMOTE"
   ]
  },
  {
   "cell_type": "code",
   "execution_count": 7,
   "metadata": {},
   "outputs": [],
   "source": [
    "from sklearn.ensemble import AdaBoostClassifier\n",
    "\n",
    "#create a dictionary of parameters \n",
    "param_grid = {'n_estimators':[100, 200, 300, 400, 500, 600, 700, 800],\n",
    "'learning_rate':[0.2, 0.4, 0.6, 0.8, 1, 1.2, 1.4],              \n",
    "'random_state':[0, 27, 42]}\n",
    "\n",
    "# create Ada Boost model \n",
    "ab_obj=AdaBoostClassifier()\n",
    "\n",
    "# Create gridsearch object with various combinations of parameters\n",
    "ab_clf = RandomizedSearchCV(ab_obj, param_grid, cv = 5, scoring = 'roc_auc', refit = True, n_jobs=-1, verbose = 5)"
   ]
  },
  {
   "cell_type": "code",
   "execution_count": 8,
   "metadata": {},
   "outputs": [
    {
     "name": "stdout",
     "output_type": "stream",
     "text": [
      "Fitting 5 folds for each of 10 candidates, totalling 50 fits\n"
     ]
    },
    {
     "name": "stderr",
     "output_type": "stream",
     "text": [
      "[Parallel(n_jobs=-1)]: Using backend LokyBackend with 8 concurrent workers.\n",
      "[Parallel(n_jobs=-1)]: Done   2 tasks      | elapsed: 10.7min\n",
      "[Parallel(n_jobs=-1)]: Done  46 out of  50 | elapsed: 48.1min remaining:  4.2min\n",
      "[Parallel(n_jobs=-1)]: Done  50 out of  50 | elapsed: 51.8min finished\n"
     ]
    },
    {
     "data": {
      "text/plain": [
       "RandomizedSearchCV(cv=5, estimator=AdaBoostClassifier(), n_jobs=-1,\n",
       "                   param_distributions={'learning_rate': [0.2, 0.4, 0.6, 0.8, 1,\n",
       "                                                          1.2, 1.4],\n",
       "                                        'n_estimators': [100, 200, 300, 400,\n",
       "                                                         500, 600, 700, 800],\n",
       "                                        'random_state': [0, 27, 42]},\n",
       "                   scoring='roc_auc', verbose=5)"
      ]
     },
     "execution_count": 8,
     "metadata": {},
     "output_type": "execute_result"
    }
   ],
   "source": [
    "ab_clf.fit(X_train_smote, y_train_smote.values.ravel())"
   ]
  },
  {
   "cell_type": "code",
   "execution_count": 9,
   "metadata": {},
   "outputs": [
    {
     "name": "stdout",
     "output_type": "stream",
     "text": [
      "Best parameter set found on training set:\n",
      "\n",
      "{'random_state': 27, 'n_estimators': 700, 'learning_rate': 1}\n",
      "Best estimator set found on training set:\n",
      "\n",
      "AdaBoostClassifier(learning_rate=1, n_estimators=700, random_state=27)\n"
     ]
    },
    {
     "data": {
      "text/plain": [
       "AdaBoostClassifier(learning_rate=1, n_estimators=700, random_state=27)"
      ]
     },
     "execution_count": 9,
     "metadata": {},
     "output_type": "execute_result"
    }
   ],
   "source": [
    "print(\"Best parameter set found on training set:\")\n",
    "print()\n",
    "print(ab_clf.best_params_)\n",
    "print(\"Best estimator set found on training set:\")\n",
    "print()\n",
    "print(ab_clf.best_estimator_)\n",
    "\n",
    "# Save the best estimator statement for use below\n",
    "ab_clf_best = ab_clf.best_estimator_\n",
    "ab_clf_best"
   ]
  },
  {
   "cell_type": "markdown",
   "metadata": {},
   "source": [
    "#### parameters\n",
    "\n",
    "AdaBoostClassifier(learning_rate=1, n_estimators=700, random_state=27)"
   ]
  },
  {
   "cell_type": "code",
   "execution_count": 10,
   "metadata": {},
   "outputs": [],
   "source": [
    "y_pred_test_ab = ab_clf_best.predict(X_test)\n",
    "\n",
    "y_pred_class_test_ab = ab_clf_best.predict_proba(X_test)"
   ]
  },
  {
   "cell_type": "code",
   "execution_count": 32,
   "metadata": {},
   "outputs": [
    {
     "name": "stdout",
     "output_type": "stream",
     "text": [
      "TEST\n",
      " \n",
      "confusion matrix: \n",
      "[[26266   269]\n",
      " [ 3150   163]]\n",
      " \n",
      " \n",
      "classification report: \n",
      "              precision    recall  f1-score   support\n",
      "\n",
      "           0       0.89      0.99      0.94     26535\n",
      "           1       0.38      0.05      0.09      3313\n",
      "\n",
      "    accuracy                           0.89     29848\n",
      "   macro avg       0.64      0.52      0.51     29848\n",
      "weighted avg       0.84      0.89      0.84     29848\n",
      "\n"
     ]
    }
   ],
   "source": [
    "print(\"TEST\")\n",
    "print(\" \")\n",
    "print(\"confusion matrix: \")\n",
    "print(metrics.confusion_matrix(y_test,y_pred_test_ab))\n",
    "print(\" \")\n",
    "print(\" \")\n",
    "print(\"classification report: \") \n",
    "print(metrics.classification_report(y_test,y_pred_test_ab))"
   ]
  },
  {
   "cell_type": "code",
   "execution_count": 12,
   "metadata": {},
   "outputs": [
    {
     "name": "stdout",
     "output_type": "stream",
     "text": [
      "ROC AUC score (test):  0.6447705452098957\n"
     ]
    }
   ],
   "source": [
    "# limit to probability for class = 1 \n",
    "base_probs_ab = y_pred_class_test_ab[:,1]\n",
    "\n",
    "# calculate roc_auc_score\n",
    "print(\"ROC AUC score (test): \", metrics.roc_auc_score(y_test, base_probs_ab))"
   ]
  },
  {
   "cell_type": "code",
   "execution_count": 33,
   "metadata": {},
   "outputs": [
    {
     "name": "stdout",
     "output_type": "stream",
     "text": [
      "TRAIN\n",
      " \n",
      "confusion matrix: \n",
      "[[61143   645]\n",
      " [ 8344 53444]]\n",
      " \n",
      " \n",
      "classification report: \n",
      "              precision    recall  f1-score   support\n",
      "\n",
      "           0       0.88      0.99      0.93     61788\n",
      "           1       0.99      0.86      0.92     61788\n",
      "\n",
      "    accuracy                           0.93    123576\n",
      "   macro avg       0.93      0.93      0.93    123576\n",
      "weighted avg       0.93      0.93      0.93    123576\n",
      "\n",
      "ROC AUC score (train):  0.9559477681615345\n"
     ]
    }
   ],
   "source": [
    "y_pred_train_ab = ab_clf_best.predict(X_train_smote)\n",
    "\n",
    "# limit to probability for class = 1 \n",
    "y_pred_train_class_ab = ab_clf_best.predict_proba(X_train_smote)\n",
    "\n",
    "base_probs_train_ab = y_pred_train_class_ab[:,1]\n",
    "\n",
    "print(\"TRAIN\")\n",
    "print(\" \")\n",
    "print(\"confusion matrix: \")\n",
    "print(metrics.confusion_matrix(y_train_smote,y_pred_train_ab))\n",
    "print(\" \")\n",
    "print(\" \")\n",
    "print(\"classification report: \") \n",
    "print(metrics.classification_report(y_train_smote,y_pred_train_ab))\n",
    "\n",
    "# calculate roc_auc_score\n",
    "print(\"ROC AUC score (train): \",metrics.roc_auc_score(y_train_smote, base_probs_train_ab))"
   ]
  },
  {
   "cell_type": "markdown",
   "metadata": {},
   "source": [
    "## Undersampled"
   ]
  },
  {
   "cell_type": "code",
   "execution_count": 14,
   "metadata": {},
   "outputs": [],
   "source": [
    "from sklearn.ensemble import AdaBoostClassifier\n",
    "\n",
    "#create a dictionary of parameters \n",
    "param_grid = {'n_estimators':[100,200,300,400,500,600,700,800],\n",
    "'learning_rate':[0.2,0.4,0.6,0.8,1, 1.2, 1.4],              \n",
    "'random_state':[0,27,42]}\n",
    "\n",
    "# create Ada Boost model \n",
    "ab_obj=AdaBoostClassifier()\n",
    "\n",
    "# Create gridsearch object with various combinations of parameters\n",
    "abu_clf = RandomizedSearchCV(ab_obj, param_grid, cv = 5, scoring = 'roc_auc', refit = True, n_jobs=-1, verbose = 5)"
   ]
  },
  {
   "cell_type": "code",
   "execution_count": 15,
   "metadata": {},
   "outputs": [
    {
     "name": "stdout",
     "output_type": "stream",
     "text": [
      "Fitting 5 folds for each of 10 candidates, totalling 50 fits\n"
     ]
    },
    {
     "name": "stderr",
     "output_type": "stream",
     "text": [
      "[Parallel(n_jobs=-1)]: Using backend LokyBackend with 8 concurrent workers.\n",
      "[Parallel(n_jobs=-1)]: Done   2 tasks      | elapsed:   11.1s\n",
      "[Parallel(n_jobs=-1)]: Done  46 out of  50 | elapsed:  4.1min remaining:   21.1s\n",
      "[Parallel(n_jobs=-1)]: Done  50 out of  50 | elapsed:  4.4min finished\n"
     ]
    },
    {
     "data": {
      "text/plain": [
       "RandomizedSearchCV(cv=5, estimator=AdaBoostClassifier(), n_jobs=-1,\n",
       "                   param_distributions={'learning_rate': [0.2, 0.4, 0.6, 0.8, 1,\n",
       "                                                          1.2, 1.4],\n",
       "                                        'n_estimators': [100, 200, 300, 400,\n",
       "                                                         500, 600, 700, 800],\n",
       "                                        'random_state': [0, 27, 42]},\n",
       "                   scoring='roc_auc', verbose=5)"
      ]
     },
     "execution_count": 15,
     "metadata": {},
     "output_type": "execute_result"
    }
   ],
   "source": [
    "abu_clf.fit(X_train_under, y_train_under.values.ravel())"
   ]
  },
  {
   "cell_type": "code",
   "execution_count": 16,
   "metadata": {
    "scrolled": true
   },
   "outputs": [
    {
     "name": "stdout",
     "output_type": "stream",
     "text": [
      "Best parameter set found on training set:\n",
      "\n",
      "{'random_state': 0, 'n_estimators': 400, 'learning_rate': 0.4}\n",
      "Best estimator set found on training set:\n",
      "\n",
      "AdaBoostClassifier(learning_rate=0.4, n_estimators=400, random_state=0)\n"
     ]
    },
    {
     "data": {
      "text/plain": [
       "AdaBoostClassifier(learning_rate=0.4, n_estimators=400, random_state=0)"
      ]
     },
     "execution_count": 16,
     "metadata": {},
     "output_type": "execute_result"
    }
   ],
   "source": [
    "print(\"Best parameter set found on training set:\")\n",
    "print()\n",
    "print(abu_clf.best_params_)\n",
    "print(\"Best estimator set found on training set:\")\n",
    "print()\n",
    "print(abu_clf.best_estimator_)\n",
    "\n",
    "# Save the best estimator statement for use below\n",
    "abu_clf_best = abu_clf.best_estimator_\n",
    "abu_clf_best"
   ]
  },
  {
   "cell_type": "markdown",
   "metadata": {},
   "source": [
    "####  best parameters\n",
    "\n",
    "AdaBoostClassifier(learning_rate=0.4, n_estimators=400, random_state=0)"
   ]
  },
  {
   "cell_type": "code",
   "execution_count": 17,
   "metadata": {},
   "outputs": [],
   "source": [
    "y_pred_test_abu = abu_clf_best.predict(X_test)\n",
    "\n",
    "y_pred_class_test_abu = abu_clf_best.predict_proba(X_test)"
   ]
  },
  {
   "cell_type": "code",
   "execution_count": 18,
   "metadata": {},
   "outputs": [
    {
     "name": "stdout",
     "output_type": "stream",
     "text": [
      "confusion matrix: \n",
      "[[17661  8874]\n",
      " [ 1427  1886]]\n",
      " \n",
      " \n",
      "classification report: \n",
      "              precision    recall  f1-score   support\n",
      "\n",
      "           0       0.93      0.67      0.77     26535\n",
      "           1       0.18      0.57      0.27      3313\n",
      "\n",
      "    accuracy                           0.65     29848\n",
      "   macro avg       0.55      0.62      0.52     29848\n",
      "weighted avg       0.84      0.65      0.72     29848\n",
      "\n"
     ]
    }
   ],
   "source": [
    "print(\"confusion matrix: \")\n",
    "print(metrics.confusion_matrix(y_test,y_pred_test_abu))\n",
    "print(\" \")\n",
    "print(\" \")\n",
    "print(\"classification report: \") \n",
    "print(metrics.classification_report(y_test,y_pred_test_abu))"
   ]
  },
  {
   "cell_type": "code",
   "execution_count": 19,
   "metadata": {},
   "outputs": [
    {
     "name": "stdout",
     "output_type": "stream",
     "text": [
      "ROC AUC score (test):  0.6628824466896458\n"
     ]
    }
   ],
   "source": [
    "# limit to probability for class = 1 \n",
    "base_probs_abu = y_pred_class_test_abu[:,1]\n",
    "\n",
    "# calculate roc_auc_score\n",
    "print(\"ROC AUC score (test): \", metrics.roc_auc_score(y_test, base_probs_abu))"
   ]
  },
  {
   "cell_type": "code",
   "execution_count": 20,
   "metadata": {},
   "outputs": [
    {
     "name": "stdout",
     "output_type": "stream",
     "text": [
      "confusion matrix: \n",
      "[[5359 2497]\n",
      " [3175 4681]]\n",
      " \n",
      " \n",
      "classification report: \n",
      "              precision    recall  f1-score   support\n",
      "\n",
      "           0       0.63      0.68      0.65      7856\n",
      "           1       0.65      0.60      0.62      7856\n",
      "\n",
      "    accuracy                           0.64     15712\n",
      "   macro avg       0.64      0.64      0.64     15712\n",
      "weighted avg       0.64      0.64      0.64     15712\n",
      "\n",
      "ROC AUC score (train):  0.6945941778256064\n"
     ]
    }
   ],
   "source": [
    "y_pred_train_abu = abu_clf_best.predict(X_train_under)\n",
    "\n",
    "# limit to probability for class = 1 \n",
    "y_pred_train_class_abu = abu_clf_best.predict_proba(X_train_under)\n",
    "\n",
    "base_probs_train_abu = y_pred_train_class_abu[:,1]\n",
    "\n",
    "print(\"confusion matrix: \")\n",
    "print(metrics.confusion_matrix(y_train_under,y_pred_train_abu))\n",
    "print(\" \")\n",
    "print(\" \")\n",
    "print(\"classification report: \") \n",
    "print(metrics.classification_report(y_train_under,y_pred_train_abu))\n",
    "\n",
    "# calculate roc_auc_score\n",
    "print(\"ROC AUC score (train): \",metrics.roc_auc_score(y_train_under, base_probs_train_abu))"
   ]
  },
  {
   "cell_type": "markdown",
   "metadata": {},
   "source": [
    "## Feature selection"
   ]
  },
  {
   "cell_type": "code",
   "execution_count": 21,
   "metadata": {},
   "outputs": [
    {
     "name": "stdout",
     "output_type": "stream",
     "text": [
      "discharge_disposition_id    0.075714\n",
      "Numeric_diag_3              0.045714\n",
      "Numeric_diag_2              0.035714\n",
      "patient_nbr                 0.030000\n",
      "age_60-70)                  0.028571\n",
      "age_50-60)                  0.027143\n",
      "age_70-80)                  0.027143\n",
      "age_80-90)                  0.025714\n",
      "Med_Spec_Missing            0.025714\n",
      "A1Cresult_None              0.025714\n",
      "Numeric_diag_1              0.022857\n",
      "age_40-50)                  0.021429\n",
      "number_inpatient            0.020000\n",
      "diabetesMed_No              0.020000\n",
      "diabetesMed_Yes             0.020000\n",
      "gender_Female               0.015714\n",
      "dtype: float64\n"
     ]
    },
    {
     "data": {
      "text/plain": [
       "['discharge_disposition_id',\n",
       " 'number_inpatient',\n",
       " 'Numeric_diag_1',\n",
       " 'Numeric_diag_3',\n",
       " 'time_in_hospital',\n",
       " 'number_diagnoses',\n",
       " 'Numeric_diag_2',\n",
       " 'number_emergency',\n",
       " 'num_medications',\n",
       " 'Med_Spec_Emergency/Trauma',\n",
       " 'DXDiabetes',\n",
       " 'Med_Spec_Cardiology',\n",
       " 'DXHTN_Kidney',\n",
       " 'DXPneumonia',\n",
       " 'A1Cresult_None']"
      ]
     },
     "execution_count": 21,
     "metadata": {},
     "output_type": "execute_result"
    }
   ],
   "source": [
    "ada15 = pd.Series(ab_clf_best.feature_importances_, index=names).nlargest(16)\n",
    "\n",
    "# not including patient_nbr so asked for 16\n",
    "\n",
    "print(ada15)\n",
    "\n",
    "#ADA15names = ['discharge_disposition_id', 'admission_type_id', 'Med_Spec_Missing', 'Med_Spec_InternalMedicine', \n",
    "#            'num_lab_procedures', 'Med_Spec_Other', 'Med_Spec_Emergency/Trauma', 'Med_Spec_Family/GeneralPractice', \n",
    "#            'Med_Spec_Cardiology', 'num_medications', 'Med_Spec_Surgery-General', 'number_inpatient', \n",
    "#            'Med_Spec_Nephrology', 'number_diagnoses', 'admission_source_id']\n",
    "\n",
    "ADA15names = ['discharge_disposition_id', 'number_inpatient', 'Numeric_diag_1', 'Numeric_diag_3', 'time_in_hospital',        \n",
    "              'number_diagnoses', 'Numeric_diag_2', 'number_emergency', 'num_medications', 'Med_Spec_Emergency/Trauma',\n",
    "              'DXDiabetes', 'Med_Spec_Cardiology', 'DXHTN_Kidney', 'DXPneumonia', 'A1Cresult_None']       \n",
    "\n",
    "ADA15names"
   ]
  },
  {
   "cell_type": "code",
   "execution_count": 22,
   "metadata": {},
   "outputs": [
    {
     "data": {
      "text/plain": [
       "<AxesSubplot:>"
      ]
     },
     "execution_count": 22,
     "metadata": {},
     "output_type": "execute_result"
    },
    {
     "data": {
      "image/png": "[encoded data removed]",
      "text/plain": [
       "<Figure size 432x288 with 1 Axes>"
      ]
     },
     "metadata": {
      "needs_background": "light"
     },
     "output_type": "display_data"
    }
   ],
   "source": [
    "(pd.Series(abu_clf_best.feature_importances_, index=names)\n",
    "   .nlargest(15)\n",
    "   .plot(kind='barh'))"
   ]
  },
  {
   "cell_type": "code",
   "execution_count": 23,
   "metadata": {},
   "outputs": [
    {
     "data": {
      "text/html": [
       "<div>\n",
       "<style scoped>\n",
       "    .dataframe tbody tr th:only-of-type {\n",
       "        vertical-align: middle;\n",
       "    }\n",
       "\n",
       "    .dataframe tbody tr th {\n",
       "        vertical-align: top;\n",
       "    }\n",
       "\n",
       "    .dataframe thead th {\n",
       "        text-align: right;\n",
       "    }\n",
       "</style>\n",
       "<table border=\"1\" class=\"dataframe\">\n",
       "  <thead>\n",
       "    <tr style=\"text-align: right;\">\n",
       "      <th></th>\n",
       "      <th>importance</th>\n",
       "    </tr>\n",
       "  </thead>\n",
       "  <tbody>\n",
       "    <tr>\n",
       "      <th>discharge_disposition_id</th>\n",
       "      <td>0.3450</td>\n",
       "    </tr>\n",
       "    <tr>\n",
       "      <th>patient_nbr</th>\n",
       "      <td>0.1550</td>\n",
       "    </tr>\n",
       "    <tr>\n",
       "      <th>Numeric_diag_3</th>\n",
       "      <td>0.0625</td>\n",
       "    </tr>\n",
       "    <tr>\n",
       "      <th>Numeric_diag_1</th>\n",
       "      <td>0.0625</td>\n",
       "    </tr>\n",
       "    <tr>\n",
       "      <th>num_lab_procedures</th>\n",
       "      <td>0.0475</td>\n",
       "    </tr>\n",
       "    <tr>\n",
       "      <th>...</th>\n",
       "      <td>...</td>\n",
       "    </tr>\n",
       "    <tr>\n",
       "      <th>num_procedures</th>\n",
       "      <td>0.0000</td>\n",
       "    </tr>\n",
       "    <tr>\n",
       "      <th>A1Cresult_8</th>\n",
       "      <td>0.0000</td>\n",
       "    </tr>\n",
       "    <tr>\n",
       "      <th>A1Cresult_7</th>\n",
       "      <td>0.0000</td>\n",
       "    </tr>\n",
       "    <tr>\n",
       "      <th>max_glu_serum_Norm</th>\n",
       "      <td>0.0000</td>\n",
       "    </tr>\n",
       "    <tr>\n",
       "      <th>repaglinide_Down</th>\n",
       "      <td>0.0000</td>\n",
       "    </tr>\n",
       "  </tbody>\n",
       "</table>\n",
       "<p>139 rows × 1 columns</p>\n",
       "</div>"
      ],
      "text/plain": [
       "                          importance\n",
       "discharge_disposition_id      0.3450\n",
       "patient_nbr                   0.1550\n",
       "Numeric_diag_3                0.0625\n",
       "Numeric_diag_1                0.0625\n",
       "num_lab_procedures            0.0475\n",
       "...                              ...\n",
       "num_procedures                0.0000\n",
       "A1Cresult_8                   0.0000\n",
       "A1Cresult_7                   0.0000\n",
       "max_glu_serum_Norm            0.0000\n",
       "repaglinide_Down              0.0000\n",
       "\n",
       "[139 rows x 1 columns]"
      ]
     },
     "execution_count": 23,
     "metadata": {},
     "output_type": "execute_result"
    }
   ],
   "source": [
    "#feature importance\n",
    "\n",
    "feature_importances = pd.DataFrame(abu_clf_best.feature_importances_,\n",
    "                                   index = names,\n",
    "                                   columns=['importance']).sort_values('importance',ascending=False)\n",
    "feature_importances"
   ]
  },
  {
   "cell_type": "markdown",
   "metadata": {},
   "source": [
    "# AdaBoost - reduced to 15 columns"
   ]
  },
  {
   "cell_type": "code",
   "execution_count": 24,
   "metadata": {},
   "outputs": [
    {
     "name": "stdout",
     "output_type": "stream",
     "text": [
      "<class 'pandas.core.frame.DataFrame'>\n",
      "RangeIndex: 15712 entries, 0 to 15711\n",
      "Data columns (total 15 columns):\n",
      " #   Column                     Non-Null Count  Dtype  \n",
      "---  ------                     --------------  -----  \n",
      " 0   discharge_disposition_id   15712 non-null  int64  \n",
      " 1   number_inpatient           15712 non-null  int64  \n",
      " 2   Numeric_diag_1             15712 non-null  float64\n",
      " 3   Numeric_diag_3             15712 non-null  float64\n",
      " 4   time_in_hospital           15712 non-null  int64  \n",
      " 5   number_diagnoses           15712 non-null  int64  \n",
      " 6   Numeric_diag_2             15712 non-null  float64\n",
      " 7   number_emergency           15712 non-null  int64  \n",
      " 8   num_medications            15712 non-null  int64  \n",
      " 9   Med_Spec_Emergency/Trauma  15712 non-null  int64  \n",
      " 10  DXDiabetes                 15712 non-null  int32  \n",
      " 11  Med_Spec_Cardiology        15712 non-null  int64  \n",
      " 12  DXHTN_Kidney               15712 non-null  int32  \n",
      " 13  DXPneumonia                15712 non-null  int32  \n",
      " 14  A1Cresult_None             15712 non-null  uint8  \n",
      "dtypes: float64(3), int32(3), int64(8), uint8(1)\n",
      "memory usage: 1.5 MB\n",
      "None\n",
      "<class 'pandas.core.frame.DataFrame'>\n",
      "Int64Index: 29848 entries, 47337 to 8374\n",
      "Data columns (total 15 columns):\n",
      " #   Column                     Non-Null Count  Dtype  \n",
      "---  ------                     --------------  -----  \n",
      " 0   discharge_disposition_id   29848 non-null  int64  \n",
      " 1   number_inpatient           29848 non-null  int64  \n",
      " 2   Numeric_diag_1             29848 non-null  float64\n",
      " 3   Numeric_diag_3             29848 non-null  float64\n",
      " 4   time_in_hospital           29848 non-null  int64  \n",
      " 5   number_diagnoses           29848 non-null  int64  \n",
      " 6   Numeric_diag_2             29848 non-null  float64\n",
      " 7   number_emergency           29848 non-null  int64  \n",
      " 8   num_medications            29848 non-null  int64  \n",
      " 9   Med_Spec_Emergency/Trauma  29848 non-null  int64  \n",
      " 10  DXDiabetes                 29848 non-null  int32  \n",
      " 11  Med_Spec_Cardiology        29848 non-null  int64  \n",
      " 12  DXHTN_Kidney               29848 non-null  int32  \n",
      " 13  DXPneumonia                29848 non-null  int32  \n",
      " 14  A1Cresult_None             29848 non-null  uint8  \n",
      "dtypes: float64(3), int32(3), int64(8), uint8(1)\n",
      "memory usage: 3.1 MB\n"
     ]
    }
   ],
   "source": [
    "X_train_ada15 = X_train_under[ADA15names]\n",
    "print(X_train_ada15.info())\n",
    "\n",
    "X_test_ada15 = X_test[ADA15names]\n",
    "X_test_ada15 .info()"
   ]
  },
  {
   "cell_type": "code",
   "execution_count": 25,
   "metadata": {},
   "outputs": [],
   "source": [
    "#create a dictionary of parameters \n",
    "param_grid = {'n_estimators':[100,200,300,400,500,600,700],\n",
    "'learning_rate':[0.2,0.4,0.6,0.8,1, 1.2, 1.4],              \n",
    "'random_state':[0,27,42]}\n",
    "\n",
    "# create Ada Boost model \n",
    "ab_obj=AdaBoostClassifier()\n",
    "\n",
    "# Create gridsearch object with various combinations of parameters\n",
    "ab_clf15 = RandomizedSearchCV(ab_obj, param_grid, cv = 5, scoring = 'roc_auc', refit = True, n_jobs=-1, verbose = 5)"
   ]
  },
  {
   "cell_type": "code",
   "execution_count": 26,
   "metadata": {},
   "outputs": [
    {
     "name": "stdout",
     "output_type": "stream",
     "text": [
      "Fitting 5 folds for each of 10 candidates, totalling 50 fits\n"
     ]
    },
    {
     "name": "stderr",
     "output_type": "stream",
     "text": [
      "[Parallel(n_jobs=-1)]: Using backend LokyBackend with 8 concurrent workers.\n",
      "[Parallel(n_jobs=-1)]: Done   2 tasks      | elapsed:   10.6s\n",
      "[Parallel(n_jobs=-1)]: Done  46 out of  50 | elapsed:   58.7s remaining:    5.0s\n",
      "[Parallel(n_jobs=-1)]: Done  50 out of  50 | elapsed:  1.0min finished\n"
     ]
    },
    {
     "data": {
      "text/plain": [
       "RandomizedSearchCV(cv=5, estimator=AdaBoostClassifier(), n_jobs=-1,\n",
       "                   param_distributions={'learning_rate': [0.2, 0.4, 0.6, 0.8, 1,\n",
       "                                                          1.2, 1.4],\n",
       "                                        'n_estimators': [100, 200, 300, 400,\n",
       "                                                         500, 600, 700],\n",
       "                                        'random_state': [0, 27, 42]},\n",
       "                   scoring='roc_auc', verbose=5)"
      ]
     },
     "execution_count": 26,
     "metadata": {},
     "output_type": "execute_result"
    }
   ],
   "source": [
    "ab_clf15.fit(X_train_ada15, y_train_under.values.ravel())"
   ]
  },
  {
   "cell_type": "code",
   "execution_count": 27,
   "metadata": {},
   "outputs": [
    {
     "name": "stdout",
     "output_type": "stream",
     "text": [
      "Best parameter set found on training set:\n",
      "\n",
      "{'random_state': 0, 'n_estimators': 300, 'learning_rate': 0.4}\n",
      "Best estimator set found on training set:\n",
      "\n",
      "AdaBoostClassifier(learning_rate=0.4, n_estimators=300, random_state=0)\n"
     ]
    },
    {
     "data": {
      "text/plain": [
       "AdaBoostClassifier(learning_rate=0.4, n_estimators=300, random_state=0)"
      ]
     },
     "execution_count": 27,
     "metadata": {},
     "output_type": "execute_result"
    }
   ],
   "source": [
    "print(\"Best parameter set found on training set:\")\n",
    "print()\n",
    "print(ab_clf15.best_params_)\n",
    "print(\"Best estimator set found on training set:\")\n",
    "print()\n",
    "print(ab_clf15.best_estimator_)\n",
    "\n",
    "# Save the best estimator statement for use below\n",
    "ab_clf15_best = ab_clf15.best_estimator_\n",
    "ab_clf15_best"
   ]
  },
  {
   "cell_type": "markdown",
   "metadata": {},
   "source": [
    "#### Best parameters\n",
    "\n",
    "AdaBoostClassifier(learning_rate=0.4, n_estimators=300, random_state=0)"
   ]
  },
  {
   "cell_type": "code",
   "execution_count": 28,
   "metadata": {},
   "outputs": [],
   "source": [
    "y_pred_test_ab15 = ab_clf15_best.predict(X_test_ada15)\n",
    "\n",
    "y_pred_class_test_ab15 = ab_clf15_best.predict_proba(X_test_ada15)"
   ]
  },
  {
   "cell_type": "code",
   "execution_count": 29,
   "metadata": {},
   "outputs": [
    {
     "name": "stdout",
     "output_type": "stream",
     "text": [
      "confusion matrix: \n",
      "[[17770  8765]\n",
      " [ 1464  1849]]\n",
      " \n",
      " \n",
      "classification report: \n",
      "              precision    recall  f1-score   support\n",
      "\n",
      "           0       0.92      0.67      0.78     26535\n",
      "           1       0.17      0.56      0.27      3313\n",
      "\n",
      "    accuracy                           0.66     29848\n",
      "   macro avg       0.55      0.61      0.52     29848\n",
      "weighted avg       0.84      0.66      0.72     29848\n",
      "\n"
     ]
    }
   ],
   "source": [
    "print(\"confusion matrix: \")\n",
    "print(metrics.confusion_matrix(y_test,y_pred_test_ab15))\n",
    "print(\" \")\n",
    "print(\" \")\n",
    "print(\"classification report: \") \n",
    "print(metrics.classification_report(y_test,y_pred_test_ab15))"
   ]
  },
  {
   "cell_type": "code",
   "execution_count": 30,
   "metadata": {},
   "outputs": [
    {
     "name": "stdout",
     "output_type": "stream",
     "text": [
      "ROC AUC score (test):  0.6650198943914009\n"
     ]
    }
   ],
   "source": [
    "# limit to probability for class = 1 \n",
    "base_probs_ab15 = y_pred_class_test_ab15[:,1]\n",
    "\n",
    "# calculate roc_auc_score\n",
    "print(\"ROC AUC score (test): \",metrics.roc_auc_score(y_test, base_probs_ab15))"
   ]
  },
  {
   "cell_type": "code",
   "execution_count": 31,
   "metadata": {},
   "outputs": [
    {
     "name": "stdout",
     "output_type": "stream",
     "text": [
      "confusion matrix: \n",
      "[[5336 2520]\n",
      " [3270 4586]]\n",
      " \n",
      " \n",
      "classification report: \n",
      "              precision    recall  f1-score   support\n",
      "\n",
      "           0       0.62      0.68      0.65      7856\n",
      "           1       0.65      0.58      0.61      7856\n",
      "\n",
      "    accuracy                           0.63     15712\n",
      "   macro avg       0.63      0.63      0.63     15712\n",
      "weighted avg       0.63      0.63      0.63     15712\n",
      "\n",
      "ROC AUC score (train):  0.6835597802839087\n"
     ]
    }
   ],
   "source": [
    "y_pred_train_ab15 = ab_clf15_best.predict(X_train_ada15)\n",
    "\n",
    "# limit to probability for class = 1 \n",
    "y_pred_train_class_ab15 = ab_clf15_best.predict_proba(X_train_ada15)\n",
    "\n",
    "base_probs_train_ab15 = y_pred_train_class_ab15[:,1]\n",
    "\n",
    "print(\"confusion matrix: \")\n",
    "print(metrics.confusion_matrix(y_train_under,y_pred_train_ab15))\n",
    "print(\" \")\n",
    "print(\" \")\n",
    "print(\"classification report: \") \n",
    "print(metrics.classification_report(y_train_under,y_pred_train_ab15))\n",
    "\n",
    "# calculate roc_auc_score\n",
    "print(\"ROC AUC score (train): \",metrics.roc_auc_score(y_train_under, base_probs_train_ab15))\n",
    "# calculate accuracy\n",
    "#print(\"Accuracy (train): \",metrics.accuracy(y_train_under, base_probs_train_ab))"
   ]
  }
 ],
 "metadata": {
  "kernelspec": {
   "display_name": "Python 3",
   "language": "python",
   "name": "python3"
  },
  "language_info": {
   "codemirror_mode": {
    "name": "ipython",
    "version": 3
   },
   "file_extension": ".py",
   "mimetype": "text/x-python",
   "name": "python",
   "nbconvert_exporter": "python",
   "pygments_lexer": "ipython3",
   "version": "3.7.9"
  }
 },
 "nbformat": 4,
 "nbformat_minor": 2
}
