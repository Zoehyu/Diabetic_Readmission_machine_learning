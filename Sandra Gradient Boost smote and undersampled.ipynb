{
 "cells": [
  {
   "cell_type": "code",
   "execution_count": 1,
   "metadata": {},
   "outputs": [],
   "source": [
    "import numpy as np \n",
    "import pandas as pd\n",
    "\n",
    "from sklearn.model_selection import RandomizedSearchCV\n",
    "from sklearn.model_selection import GridSearchCV\n",
    "import seaborn as sns\n",
    "import matplotlib.pyplot as plt\n",
    "import sklearn.metrics as metrics\n",
    "from sklearn.model_selection import train_test_split"
   ]
  },
  {
   "cell_type": "code",
   "execution_count": 2,
   "metadata": {},
   "outputs": [],
   "source": [
    "import pickle\n",
    "\n",
    "X_test = pickle.load(open(\"X_test.p\", \"rb\" ))\n",
    "y_test = pickle.load(open(\"y_test.p\", \"rb\" ))\n",
    "\n",
    "# SMOTE datasets\n",
    "\n",
    "X_train_smote = pickle.load(open(\"X_train_smote.p\", \"rb\"))\n",
    "y_train_smote = pickle.load(open(\"y_train_smote.p\", \"rb\"))\n",
    "\n",
    "# Undersampled datasets\n",
    "\n",
    "X_train_under = pickle.load(open(\"X_train_under.p\", \"rb\" ))\n",
    "y_train_under = pickle.load(open(\"y_train_under.p\", \"rb\" ))\n",
    "\n",
    "X = pickle.load(open(\"X.p\", \"rb\"))\n",
    "Xdf = pd.DataFrame(X)"
   ]
  },
  {
   "cell_type": "code",
   "execution_count": 3,
   "metadata": {},
   "outputs": [
    {
     "data": {
      "text/plain": [
       "['admission_type_id',\n",
       " 'discharge_disposition_id',\n",
       " 'admission_source_id',\n",
       " 'time_in_hospital',\n",
       " 'num_lab_procedures',\n",
       " 'num_procedures',\n",
       " 'num_medications',\n",
       " 'number_outpatient',\n",
       " 'number_emergency',\n",
       " 'number_inpatient',\n",
       " 'number_diagnoses',\n",
       " 'Med_Spec_Missing',\n",
       " 'Med_Spec_InternalMedicine',\n",
       " 'Med_Spec_Emergency/Trauma',\n",
       " 'Med_Spec_Family/GeneralPractice',\n",
       " 'Med_Spec_Cardiology',\n",
       " 'Med_Spec_Surgery-General',\n",
       " 'Med_Spec_Nephrology',\n",
       " 'Med_Spec_Other',\n",
       " 'DXDiabetes',\n",
       " 'DXLipid',\n",
       " 'DXFluid',\n",
       " 'DXHypertension',\n",
       " 'DXHTN_Kidney',\n",
       " 'DXHeartAttack',\n",
       " 'DXHeartDisease',\n",
       " 'DXDysrhythm',\n",
       " 'DXHeartFailure',\n",
       " 'DXCVD',\n",
       " 'DXPneumonia',\n",
       " 'DXAirway',\n",
       " 'DXUrethra',\n",
       " 'DXCellutitis',\n",
       " 'DXOsteo',\n",
       " 'DXResp',\n",
       " 'DXDevice']"
      ]
     },
     "execution_count": 3,
     "metadata": {},
     "output_type": "execute_result"
    }
   ],
   "source": [
    "names = ['admission_type_id',\n",
    " 'discharge_disposition_id',\n",
    " 'admission_source_id',\n",
    " 'time_in_hospital',\n",
    " 'num_lab_procedures',\n",
    " 'num_procedures',\n",
    " 'num_medications',\n",
    " 'number_outpatient',\n",
    " 'number_emergency',\n",
    " 'number_inpatient',\n",
    " 'number_diagnoses',\n",
    " 'Med_Spec_Missing',\n",
    " 'Med_Spec_InternalMedicine',\n",
    " 'Med_Spec_Emergency/Trauma',\n",
    " 'Med_Spec_Family/GeneralPractice',\n",
    " 'Med_Spec_Cardiology',\n",
    " 'Med_Spec_Surgery-General',\n",
    " 'Med_Spec_Nephrology',\n",
    " 'Med_Spec_Other',\n",
    " 'DXDiabetes',\n",
    " 'DXLipid',\n",
    " 'DXFluid',\n",
    " 'DXHypertension',\n",
    " 'DXHTN_Kidney',\n",
    " 'DXHeartAttack',\n",
    " 'DXHeartDisease',\n",
    " 'DXDysrhythm',\n",
    " 'DXHeartFailure',\n",
    " 'DXCVD',\n",
    " 'DXPneumonia',\n",
    " 'DXAirway',\n",
    " 'DXUrethra',\n",
    " 'DXCellutitis',\n",
    " 'DXOsteo',\n",
    " 'DXResp',\n",
    " 'DXDevice']\n",
    "\n",
    "names"
   ]
  },
  {
   "cell_type": "code",
   "execution_count": 4,
   "metadata": {},
   "outputs": [
    {
     "data": {
      "text/plain": [
       "['patient_nbr',\n",
       " 'admission_type_id',\n",
       " 'discharge_disposition_id',\n",
       " 'admission_source_id',\n",
       " 'time_in_hospital',\n",
       " 'num_lab_procedures',\n",
       " 'num_procedures',\n",
       " 'num_medications',\n",
       " 'number_outpatient',\n",
       " 'number_emergency',\n",
       " 'number_inpatient',\n",
       " 'number_diagnoses',\n",
       " 'Numeric_diag_1',\n",
       " 'Numeric_diag_2',\n",
       " 'Numeric_diag_3',\n",
       " 'race_AfricanAmerican',\n",
       " 'race_Asian',\n",
       " 'race_Caucasian',\n",
       " 'race_Hispanic',\n",
       " 'race_Other',\n",
       " 'gender_Female',\n",
       " 'gender_Male',\n",
       " 'age_0-10)',\n",
       " 'age_10-20)',\n",
       " 'age_20-30)',\n",
       " 'age_30-40)',\n",
       " 'age_40-50)',\n",
       " 'age_50-60)',\n",
       " 'age_60-70)',\n",
       " 'age_70-80)',\n",
       " 'age_80-90)',\n",
       " 'age_90-100)',\n",
       " 'Med_Spec_Missing',\n",
       " 'Med_Spec_InternalMedicine',\n",
       " 'Med_Spec_Emergency/Trauma',\n",
       " 'Med_Spec_Family/GeneralPractice',\n",
       " 'Med_Spec_Cardiology',\n",
       " 'Med_Spec_Surgery-General',\n",
       " 'Med_Spec_Nephrology',\n",
       " 'Med_Spec_Other',\n",
       " 'DXDiabetes',\n",
       " 'DXLipid',\n",
       " 'DXFluid',\n",
       " 'DXHypertension',\n",
       " 'DXHTN_Kidney',\n",
       " 'DXHeartAttack',\n",
       " 'DXHeartDisease',\n",
       " 'DXDysrhythm',\n",
       " 'DXHeartFailure',\n",
       " 'DXCVD',\n",
       " 'DXPneumonia',\n",
       " 'DXAirway',\n",
       " 'DXUrethra',\n",
       " 'DXCellutitis',\n",
       " 'DXOsteo',\n",
       " 'DXResp',\n",
       " 'DXDevice',\n",
       " 'max_glu_serum_200',\n",
       " 'max_glu_serum_300',\n",
       " 'max_glu_serum_None',\n",
       " 'max_glu_serum_Norm',\n",
       " 'A1Cresult_7',\n",
       " 'A1Cresult_8',\n",
       " 'A1Cresult_None',\n",
       " 'A1Cresult_Norm',\n",
       " 'metformin_Down',\n",
       " 'metformin_No',\n",
       " 'metformin_Steady',\n",
       " 'metformin_Up',\n",
       " 'repaglinide_Down',\n",
       " 'repaglinide_No',\n",
       " 'repaglinide_Steady',\n",
       " 'repaglinide_Up',\n",
       " 'nateglinide_Down',\n",
       " 'nateglinide_No',\n",
       " 'nateglinide_Steady',\n",
       " 'nateglinide_Up',\n",
       " 'chlorpropamide_Down',\n",
       " 'chlorpropamide_No',\n",
       " 'chlorpropamide_Steady',\n",
       " 'chlorpropamide_Up',\n",
       " 'glimepiride_Down',\n",
       " 'glimepiride_No',\n",
       " 'glimepiride_Steady',\n",
       " 'glimepiride_Up',\n",
       " 'acetohexamide_No',\n",
       " 'acetohexamide_Steady',\n",
       " 'glipizide_Down',\n",
       " 'glipizide_No',\n",
       " 'glipizide_Steady',\n",
       " 'glipizide_Up',\n",
       " 'glyburide_Down',\n",
       " 'glyburide_No',\n",
       " 'glyburide_Steady',\n",
       " 'glyburide_Up',\n",
       " 'tolbutamide_No',\n",
       " 'tolbutamide_Steady',\n",
       " 'pioglitazone_Down',\n",
       " 'pioglitazone_No',\n",
       " 'pioglitazone_Steady',\n",
       " 'pioglitazone_Up',\n",
       " 'rosiglitazone_Down',\n",
       " 'rosiglitazone_No',\n",
       " 'rosiglitazone_Steady',\n",
       " 'rosiglitazone_Up',\n",
       " 'acarbose_Down',\n",
       " 'acarbose_No',\n",
       " 'acarbose_Steady',\n",
       " 'acarbose_Up',\n",
       " 'miglitol_Down',\n",
       " 'miglitol_No',\n",
       " 'miglitol_Steady',\n",
       " 'miglitol_Up',\n",
       " 'troglitazone_No',\n",
       " 'troglitazone_Steady',\n",
       " 'tolazamide_No',\n",
       " 'tolazamide_Steady',\n",
       " 'tolazamide_Up',\n",
       " 'examide_No',\n",
       " 'citoglipton_No',\n",
       " 'insulin_Down',\n",
       " 'insulin_No',\n",
       " 'insulin_Steady',\n",
       " 'insulin_Up',\n",
       " 'glyburide-metformin_Down',\n",
       " 'glyburide-metformin_No',\n",
       " 'glyburide-metformin_Steady',\n",
       " 'glyburide-metformin_Up',\n",
       " 'glipizide-metformin_No',\n",
       " 'glipizide-metformin_Steady',\n",
       " 'glimepiride-pioglitazone_No',\n",
       " 'glimepiride-pioglitazone_Steady',\n",
       " 'metformin-rosiglitazone_No',\n",
       " 'metformin-pioglitazone_No',\n",
       " 'metformin-pioglitazone_Steady',\n",
       " 'change_Ch',\n",
       " 'change_No',\n",
       " 'diabetesMed_No',\n",
       " 'diabetesMed_Yes']"
      ]
     },
     "execution_count": 4,
     "metadata": {},
     "output_type": "execute_result"
    }
   ],
   "source": [
    "namesU = list(X_train_under.columns)\n",
    "\n",
    "namesU"
   ]
  },
  {
   "cell_type": "markdown",
   "metadata": {},
   "source": [
    "# Gradient Boosting"
   ]
  },
  {
   "cell_type": "markdown",
   "metadata": {},
   "source": [
    "### Hyperband for Gradient Boosting\n",
    "\n",
    "space = {\n",
    "    'learning_rate': hp.uniform( 'lr', 0.01, 0.2 ),\n",
    "    'subsample': hp.uniform( 'ss', 0.8, 1.0 ),\n",
    "    'max_depth': hp.quniform( 'md', 2, 10, 1 ),\n",
    "    'max_features': hp.choice( 'mf', ( 'sqrt', 'log2', None )),\n",
    "    'min_samples_leaf': hp.quniform( 'mss', 1, 10, 1 ),\n",
    "    'min_samples_split': hp.quniform( 'mss', 2, 20, 1 )\n",
    "}"
   ]
  },
  {
   "cell_type": "markdown",
   "metadata": {},
   "source": [
    "# SMOTE"
   ]
  },
  {
   "cell_type": "code",
   "execution_count": 30,
   "metadata": {},
   "outputs": [],
   "source": [
    "from sklearn.ensemble import GradientBoostingClassifier\n",
    "\n",
    "#create a dictionary of parameters \n",
    "param_grid = {'n_estimators':[100,200,300,400,500,500],\n",
    "'learning_rate':[0.1,0.2,0.4,0.6,0.8,1.2,1.6],              \n",
    "'random_state':[0,27,42],\n",
    "'max_depth': [1,2]}\n",
    "\n",
    "# create Ada Boost model \n",
    "gb_obj=GradientBoostingClassifier()\n",
    "\n",
    "# Create gridsearch object with various combinations of parameters\n",
    "gb_clf = RandomizedSearchCV(gb_obj, param_grid, cv = 5, scoring = 'roc_auc', refit = True, n_jobs=-1, verbose = 5)"
   ]
  },
  {
   "cell_type": "code",
   "execution_count": 31,
   "metadata": {},
   "outputs": [
    {
     "name": "stdout",
     "output_type": "stream",
     "text": [
      "Fitting 5 folds for each of 10 candidates, totalling 50 fits\n"
     ]
    },
    {
     "name": "stderr",
     "output_type": "stream",
     "text": [
      "[Parallel(n_jobs=-1)]: Using backend LokyBackend with 8 concurrent workers.\n",
      "[Parallel(n_jobs=-1)]: Done   2 tasks      | elapsed:  1.6min\n",
      "[Parallel(n_jobs=-1)]: Done  46 out of  50 | elapsed: 27.0min remaining:  2.3min\n",
      "[Parallel(n_jobs=-1)]: Done  50 out of  50 | elapsed: 27.5min finished\n"
     ]
    },
    {
     "data": {
      "text/plain": [
       "RandomizedSearchCV(cv=5, estimator=GradientBoostingClassifier(), n_jobs=-1,\n",
       "                   param_distributions={'learning_rate': [0.1, 0.2, 0.4, 0.6,\n",
       "                                                          0.8, 1.2, 1.6],\n",
       "                                        'max_depth': [1, 2],\n",
       "                                        'n_estimators': [100, 200, 300, 400,\n",
       "                                                         500, 500],\n",
       "                                        'random_state': [0, 27, 42]},\n",
       "                   scoring='roc_auc', verbose=5)"
      ]
     },
     "execution_count": 31,
     "metadata": {},
     "output_type": "execute_result"
    }
   ],
   "source": [
    "gb_clf.fit(X_train_smote, y_train_smote.values.ravel())"
   ]
  },
  {
   "cell_type": "code",
   "execution_count": 32,
   "metadata": {},
   "outputs": [
    {
     "name": "stdout",
     "output_type": "stream",
     "text": [
      "Best parameter set found on training set:\n",
      "\n",
      "{'random_state': 0, 'n_estimators': 500, 'max_depth': 2, 'learning_rate': 0.1}\n",
      "Best estimator set found on training set:\n",
      "\n",
      "GradientBoostingClassifier(max_depth=2, n_estimators=500, random_state=0)\n"
     ]
    },
    {
     "data": {
      "text/plain": [
       "GradientBoostingClassifier(max_depth=2, n_estimators=500, random_state=0)"
      ]
     },
     "execution_count": 32,
     "metadata": {},
     "output_type": "execute_result"
    }
   ],
   "source": [
    "print(\"Best parameter set found on training set:\")\n",
    "print()\n",
    "print(gb_clf.best_params_)\n",
    "print(\"Best estimator set found on training set:\")\n",
    "print()\n",
    "print(gb_clf.best_estimator_)\n",
    "\n",
    "# Save the best estimator statement for use below\n",
    "gb_clf_best = gb_clf.best_estimator_\n",
    "gb_clf_best"
   ]
  },
  {
   "cell_type": "markdown",
   "metadata": {},
   "source": [
    "### SMOTE parameters\n",
    "\n",
    "GradientBoostingClassifier(max_depth=2, n_estimators=500, random_state=0)"
   ]
  },
  {
   "cell_type": "code",
   "execution_count": 33,
   "metadata": {},
   "outputs": [],
   "source": [
    "y_pred_gb = gb_clf_best.predict(X_test)\n",
    "\n",
    "y_pred_class_gb = gb_clf_best.predict_proba(X_test)"
   ]
  },
  {
   "cell_type": "code",
   "execution_count": 34,
   "metadata": {},
   "outputs": [
    {
     "name": "stdout",
     "output_type": "stream",
     "text": [
      "confusion matrix: \n",
      "[[26346   189]\n",
      " [ 3200   113]]\n",
      " \n",
      " \n",
      "classification report: \n",
      "              precision    recall  f1-score   support\n",
      "\n",
      "           0       0.89      0.99      0.94     26535\n",
      "           1       0.37      0.03      0.06      3313\n",
      "\n",
      "    accuracy                           0.89     29848\n",
      "   macro avg       0.63      0.51      0.50     29848\n",
      "weighted avg       0.83      0.89      0.84     29848\n",
      "\n"
     ]
    }
   ],
   "source": [
    "print(\"confusion matrix: \")\n",
    "print(metrics.confusion_matrix(y_test,y_pred_gb))\n",
    "print(\" \")\n",
    "print(\" \")\n",
    "print(\"classification report: \") \n",
    "print(metrics.classification_report(y_test,y_pred_gb))"
   ]
  },
  {
   "cell_type": "code",
   "execution_count": 35,
   "metadata": {},
   "outputs": [
    {
     "name": "stdout",
     "output_type": "stream",
     "text": [
      "ROC AUC score (test):  0.6291712288373436\n"
     ]
    }
   ],
   "source": [
    "# limit to probability for class = 1 \n",
    "base_probs_test_gb = y_pred_class_gb[:,1]\n",
    "\n",
    "# calculate roc_auc_score\n",
    "print(\"ROC AUC score (test): \",metrics.roc_auc_score(y_test, base_probs_test_gb))"
   ]
  },
  {
   "cell_type": "code",
   "execution_count": 37,
   "metadata": {},
   "outputs": [
    {
     "name": "stdout",
     "output_type": "stream",
     "text": [
      "confusion matrix: \n",
      "[[61325   463]\n",
      " [ 8891 52897]]\n",
      " \n",
      " \n",
      "classification report: \n",
      "              precision    recall  f1-score   support\n",
      "\n",
      "           0       0.87      0.99      0.93     61788\n",
      "           1       0.99      0.86      0.92     61788\n",
      "\n",
      "    accuracy                           0.92    123576\n",
      "   macro avg       0.93      0.92      0.92    123576\n",
      "weighted avg       0.93      0.92      0.92    123576\n",
      "\n",
      "ROC AUC score (train):  0.9538165985718132\n"
     ]
    }
   ],
   "source": [
    "y_pred_train_gb = gb_clf_best.predict(X_train_smote)\n",
    "\n",
    "# limit to probability for class = 1 \n",
    "y_pred_train_class_gb = gb_clf_best.predict_proba(X_train_smote)\n",
    "\n",
    "base_probs_train_gb = y_pred_train_class_gb[:,1]\n",
    "\n",
    "print(\"confusion matrix: \")\n",
    "print(metrics.confusion_matrix(y_train_smote,y_pred_train_gb))\n",
    "print(\" \")\n",
    "print(\" \")\n",
    "print(\"classification report: \") \n",
    "print(metrics.classification_report(y_train_smote,y_pred_train_gb))\n",
    "\n",
    "# calculate roc_auc_score\n",
    "print(\"ROC AUC score (train): \",metrics.roc_auc_score(y_train_smote, base_probs_train_gb))"
   ]
  },
  {
   "cell_type": "markdown",
   "metadata": {},
   "source": [
    "### SMOTE feature importance"
   ]
  },
  {
   "cell_type": "code",
   "execution_count": 36,
   "metadata": {},
   "outputs": [
    {
     "data": {
      "text/plain": [
       "<AxesSubplot:>"
      ]
     },
     "execution_count": 36,
     "metadata": {},
     "output_type": "execute_result"
    },
    {
     "data": {
      "image/png": "[encoded data removed]",
      "text/plain": [
       "<Figure size 432x288 with 1 Axes>"
      ]
     },
     "metadata": {
      "needs_background": "light"
     },
     "output_type": "display_data"
    }
   ],
   "source": [
    "feat_importances = pd.Series(gb_clf_best.feature_importances_,names)\n",
    "feat_importances.nlargest(15).plot(kind='barh')"
   ]
  },
  {
   "cell_type": "markdown",
   "metadata": {},
   "source": [
    "# Undersampling"
   ]
  },
  {
   "cell_type": "code",
   "execution_count": 13,
   "metadata": {},
   "outputs": [],
   "source": [
    "from sklearn.ensemble import GradientBoostingClassifier\n",
    "\n",
    "#create a dictionary of parameters \n",
    "param_grid = {'n_estimators':[100,200,300,400,500,500],\n",
    "'learning_rate':[0.1,0.2,0.4,0.6,0.8,1.2,1.6],              \n",
    "'random_state':[0,27,42],\n",
    "'max_depth': [1,2]}\n",
    "\n",
    "# create Ada Boost model \n",
    "gb_obj=GradientBoostingClassifier()\n",
    "\n",
    "# Create gridsearch object with various combinations of parameters\n",
    "gb_clf_u = RandomizedSearchCV(gb_obj, param_grid, cv = 5, scoring = 'roc_auc', refit = True, n_jobs=-1, verbose = 5)"
   ]
  },
  {
   "cell_type": "code",
   "execution_count": 14,
   "metadata": {},
   "outputs": [
    {
     "name": "stdout",
     "output_type": "stream",
     "text": [
      "Fitting 5 folds for each of 10 candidates, totalling 50 fits\n"
     ]
    },
    {
     "name": "stderr",
     "output_type": "stream",
     "text": [
      "[Parallel(n_jobs=-1)]: Using backend LokyBackend with 8 concurrent workers.\n",
      "[Parallel(n_jobs=-1)]: Done   2 tasks      | elapsed:   10.3s\n",
      "[Parallel(n_jobs=-1)]: Done  46 out of  50 | elapsed:  1.9min remaining:    9.9s\n",
      "[Parallel(n_jobs=-1)]: Done  50 out of  50 | elapsed:  2.0min finished\n"
     ]
    },
    {
     "data": {
      "text/plain": [
       "RandomizedSearchCV(cv=5, estimator=GradientBoostingClassifier(), n_jobs=-1,\n",
       "                   param_distributions={'learning_rate': [0.1, 0.2, 0.4, 0.6,\n",
       "                                                          0.8, 1.2, 1.6],\n",
       "                                        'max_depth': [1, 2],\n",
       "                                        'n_estimators': [100, 200, 300, 400,\n",
       "                                                         500, 500],\n",
       "                                        'random_state': [0, 27, 42]},\n",
       "                   scoring='roc_auc', verbose=5)"
      ]
     },
     "execution_count": 14,
     "metadata": {},
     "output_type": "execute_result"
    }
   ],
   "source": [
    "gb_clf_u.fit(X_train_under, y_train_under.values.ravel())"
   ]
  },
  {
   "cell_type": "code",
   "execution_count": 15,
   "metadata": {},
   "outputs": [
    {
     "name": "stdout",
     "output_type": "stream",
     "text": [
      "Best parameter set found on training set:\n",
      "\n",
      "{'random_state': 0, 'n_estimators': 400, 'max_depth': 1, 'learning_rate': 0.4}\n",
      "Best estimator set found on training set:\n",
      "\n",
      "GradientBoostingClassifier(learning_rate=0.4, max_depth=1, n_estimators=400,\n",
      "                           random_state=0)\n"
     ]
    },
    {
     "data": {
      "text/plain": [
       "GradientBoostingClassifier(learning_rate=0.4, max_depth=1, n_estimators=400,\n",
       "                           random_state=0)"
      ]
     },
     "execution_count": 15,
     "metadata": {},
     "output_type": "execute_result"
    }
   ],
   "source": [
    "print(\"Best parameter set found on training set:\")\n",
    "print()\n",
    "print(gb_clf_u.best_params_)\n",
    "print(\"Best estimator set found on training set:\")\n",
    "print()\n",
    "print(gb_clf_u.best_estimator_)\n",
    "\n",
    "# Save the best estimator statement for use below\n",
    "gb_clf_u_best = gb_clf_u.best_estimator_\n",
    "gb_clf_u_best"
   ]
  },
  {
   "cell_type": "markdown",
   "metadata": {},
   "source": [
    "### first run\n",
    "\n",
    "GradientBoostingClassifier(learning_rate=0.6, max_depth=1, n_estimators=500,\n",
    "                           random_state=0)\n",
    "                           \n",
    "### second run \n",
    "\n",
    "GradientBoostingClassifier(learning_rate=0.4, max_depth=1, n_estimators=400,\n",
    "                           random_state=0)"
   ]
  },
  {
   "cell_type": "code",
   "execution_count": 16,
   "metadata": {},
   "outputs": [],
   "source": [
    "y_pred_gbu = gb_clf_u_best.predict(X_test)\n",
    "\n",
    "y_pred_class_gbu = gb_clf_u_best.predict_proba(X_test)"
   ]
  },
  {
   "cell_type": "code",
   "execution_count": 17,
   "metadata": {},
   "outputs": [
    {
     "name": "stdout",
     "output_type": "stream",
     "text": [
      "confusion matrix: \n",
      "[[17572  8963]\n",
      " [ 1420  1893]]\n",
      " \n",
      " \n",
      "classification report: \n",
      "              precision    recall  f1-score   support\n",
      "\n",
      "           0       0.93      0.66      0.77     26535\n",
      "           1       0.17      0.57      0.27      3313\n",
      "\n",
      "    accuracy                           0.65     29848\n",
      "   macro avg       0.55      0.62      0.52     29848\n",
      "weighted avg       0.84      0.65      0.72     29848\n",
      "\n"
     ]
    }
   ],
   "source": [
    "print(\"confusion matrix: \")\n",
    "print(metrics.confusion_matrix(y_test,y_pred_gbu))\n",
    "print(\" \")\n",
    "print(\" \")\n",
    "print(\"classification report: \") \n",
    "print(metrics.classification_report(y_test,y_pred_gbu))"
   ]
  },
  {
   "cell_type": "code",
   "execution_count": 18,
   "metadata": {},
   "outputs": [
    {
     "name": "stdout",
     "output_type": "stream",
     "text": [
      "ROC AUC score (test):  0.6627749793810076\n"
     ]
    }
   ],
   "source": [
    "# limit to probability for class = 1 \n",
    "base_probs_test_gbu = y_pred_class_gbu[:,1]\n",
    "\n",
    "# calculate roc_auc_score\n",
    "print(\"ROC AUC score (test): \",metrics.roc_auc_score(y_test, base_probs_test_gbu))"
   ]
  },
  {
   "cell_type": "code",
   "execution_count": 19,
   "metadata": {},
   "outputs": [
    {
     "name": "stdout",
     "output_type": "stream",
     "text": [
      "confusion matrix: \n",
      "[[5348 2508]\n",
      " [3160 4696]]\n",
      " \n",
      " \n",
      "classification report: \n",
      "              precision    recall  f1-score   support\n",
      "\n",
      "           0       0.63      0.68      0.65      7856\n",
      "           1       0.65      0.60      0.62      7856\n",
      "\n",
      "    accuracy                           0.64     15712\n",
      "   macro avg       0.64      0.64      0.64     15712\n",
      "weighted avg       0.64      0.64      0.64     15712\n",
      "\n",
      "ROC AUC score (train):  0.6948967618767137\n"
     ]
    }
   ],
   "source": [
    "y_pred_train_gbu = gb_clf_u_best.predict(X_train_under)\n",
    "\n",
    "# limit to probability for class = 1 \n",
    "y_pred_train_class_gbu = gb_clf_u_best.predict_proba(X_train_under)\n",
    "\n",
    "base_probs_train_gbu = y_pred_train_class_gbu[:,1]\n",
    "\n",
    "print(\"confusion matrix: \")\n",
    "print(metrics.confusion_matrix(y_train_under,y_pred_train_gbu))\n",
    "print(\" \")\n",
    "print(\" \")\n",
    "print(\"classification report: \") \n",
    "print(metrics.classification_report(y_train_under,y_pred_train_gbu))\n",
    "\n",
    "# calculate roc_auc_score\n",
    "print(\"ROC AUC score (train): \",metrics.roc_auc_score(y_train_under, base_probs_train_gbu))"
   ]
  },
  {
   "cell_type": "markdown",
   "metadata": {},
   "source": [
    "### Undersampling feature importance"
   ]
  },
  {
   "cell_type": "code",
   "execution_count": 20,
   "metadata": {},
   "outputs": [
    {
     "data": {
      "text/plain": [
       "<AxesSubplot:>"
      ]
     },
     "execution_count": 20,
     "metadata": {},
     "output_type": "execute_result"
    },
    {
     "data": {
      "image/png": "[encoded data removed]",
      "text/plain": [
       "<Figure size 432x288 with 1 Axes>"
      ]
     },
     "metadata": {
      "needs_background": "light"
     },
     "output_type": "display_data"
    }
   ],
   "source": [
    "feat_importances = pd.Series(gb_clf_u_best.feature_importances_,namesu)\n",
    "feat_importances.nlargest(16).plot(kind='barh')"
   ]
  },
  {
   "cell_type": "code",
   "execution_count": 21,
   "metadata": {},
   "outputs": [
    {
     "data": {
      "text/plain": [
       "['number_inpatient',\n",
       " 'discharge_disposition_id',\n",
       " 'Numeric_diag_1',\n",
       " 'Numeric_diag_3',\n",
       " 'DXDiabetes',\n",
       " 'number_emergency',\n",
       " 'number_diagnoses',\n",
       " 'num_lab_procedures',\n",
       " 'Numeric_diag_2',\n",
       " 'diabetesMed_Yes',\n",
       " 'time_in_hospital',\n",
       " 'num_medications',\n",
       " 'number_outpatient',\n",
       " 'age_50-60)',\n",
       " 'A1Cresult_None']"
      ]
     },
     "execution_count": 21,
     "metadata": {},
     "output_type": "execute_result"
    }
   ],
   "source": [
    "gb15names = ['number_inpatient', 'discharge_disposition_id', 'Numeric_diag_1', 'Numeric_diag_3', 'DXDiabetes',\n",
    "             'number_emergency', 'number_diagnoses', 'num_lab_procedures', 'Numeric_diag_2', 'diabetesMed_Yes',\n",
    "             'time_in_hospital', 'num_medications', 'number_outpatient', 'age_50-60)', 'A1Cresult_None']       \n",
    "\n",
    "gb15names"
   ]
  },
  {
   "cell_type": "markdown",
   "metadata": {},
   "source": [
    "# Gradient boost top 15"
   ]
  },
  {
   "cell_type": "code",
   "execution_count": 22,
   "metadata": {},
   "outputs": [
    {
     "name": "stdout",
     "output_type": "stream",
     "text": [
      "<class 'pandas.core.frame.DataFrame'>\n",
      "RangeIndex: 15712 entries, 0 to 15711\n",
      "Data columns (total 15 columns):\n",
      " #   Column                    Non-Null Count  Dtype  \n",
      "---  ------                    --------------  -----  \n",
      " 0   number_inpatient          15712 non-null  int64  \n",
      " 1   discharge_disposition_id  15712 non-null  int64  \n",
      " 2   Numeric_diag_1            15712 non-null  float64\n",
      " 3   Numeric_diag_3            15712 non-null  float64\n",
      " 4   DXDiabetes                15712 non-null  int32  \n",
      " 5   number_emergency          15712 non-null  int64  \n",
      " 6   number_diagnoses          15712 non-null  int64  \n",
      " 7   num_lab_procedures        15712 non-null  int64  \n",
      " 8   Numeric_diag_2            15712 non-null  float64\n",
      " 9   diabetesMed_Yes           15712 non-null  uint8  \n",
      " 10  time_in_hospital          15712 non-null  int64  \n",
      " 11  num_medications           15712 non-null  int64  \n",
      " 12  number_outpatient         15712 non-null  int64  \n",
      " 13  age_50-60)                15712 non-null  uint8  \n",
      " 14  A1Cresult_None            15712 non-null  uint8  \n",
      "dtypes: float64(3), int32(1), int64(8), uint8(3)\n",
      "memory usage: 1.4 MB\n",
      "None\n",
      "<class 'pandas.core.frame.DataFrame'>\n",
      "Int64Index: 29848 entries, 47337 to 8374\n",
      "Data columns (total 15 columns):\n",
      " #   Column                    Non-Null Count  Dtype  \n",
      "---  ------                    --------------  -----  \n",
      " 0   number_inpatient          29848 non-null  int64  \n",
      " 1   discharge_disposition_id  29848 non-null  int64  \n",
      " 2   Numeric_diag_1            29848 non-null  float64\n",
      " 3   Numeric_diag_3            29848 non-null  float64\n",
      " 4   DXDiabetes                29848 non-null  int32  \n",
      " 5   number_emergency          29848 non-null  int64  \n",
      " 6   number_diagnoses          29848 non-null  int64  \n",
      " 7   num_lab_procedures        29848 non-null  int64  \n",
      " 8   Numeric_diag_2            29848 non-null  float64\n",
      " 9   diabetesMed_Yes           29848 non-null  uint8  \n",
      " 10  time_in_hospital          29848 non-null  int64  \n",
      " 11  num_medications           29848 non-null  int64  \n",
      " 12  number_outpatient         29848 non-null  int64  \n",
      " 13  age_50-60)                29848 non-null  uint8  \n",
      " 14  A1Cresult_None            29848 non-null  uint8  \n",
      "dtypes: float64(3), int32(1), int64(8), uint8(3)\n",
      "memory usage: 2.9 MB\n"
     ]
    }
   ],
   "source": [
    "X_train_gb15 = X_train_under[gb15names]\n",
    "print(X_train_gb15.info())\n",
    "\n",
    "X_test_gb15 = X_test[gb15names]\n",
    "X_test_gb15.info()"
   ]
  },
  {
   "cell_type": "code",
   "execution_count": 23,
   "metadata": {},
   "outputs": [],
   "source": [
    "from sklearn.ensemble import GradientBoostingClassifier\n",
    "\n",
    "#create a dictionary of parameters \n",
    "param_grid = {'n_estimators':[100,200,300,400,500,500],\n",
    "'learning_rate':[0.1,0.2,0.4,0.6,0.8,1.2,1.6],              \n",
    "'random_state':[0,27,42],\n",
    "'max_depth': [1,2]}\n",
    "\n",
    "# create Ada Boost model \n",
    "gb_obj=GradientBoostingClassifier()\n",
    "\n",
    "# Create gridsearch object with various combinations of parameters\n",
    "gb_clf_u15 = RandomizedSearchCV(gb_obj, param_grid, cv = 5, scoring = 'roc_auc', refit = True, n_jobs=-1, verbose = 5)"
   ]
  },
  {
   "cell_type": "code",
   "execution_count": 24,
   "metadata": {},
   "outputs": [
    {
     "name": "stdout",
     "output_type": "stream",
     "text": [
      "Fitting 5 folds for each of 10 candidates, totalling 50 fits\n"
     ]
    },
    {
     "name": "stderr",
     "output_type": "stream",
     "text": [
      "[Parallel(n_jobs=-1)]: Using backend LokyBackend with 8 concurrent workers.\n",
      "[Parallel(n_jobs=-1)]: Done   2 tasks      | elapsed:    6.4s\n",
      "[Parallel(n_jobs=-1)]: Done  46 out of  50 | elapsed:   36.8s remaining:    3.1s\n",
      "[Parallel(n_jobs=-1)]: Done  50 out of  50 | elapsed:   40.5s finished\n"
     ]
    },
    {
     "data": {
      "text/plain": [
       "RandomizedSearchCV(cv=5, estimator=GradientBoostingClassifier(), n_jobs=-1,\n",
       "                   param_distributions={'learning_rate': [0.1, 0.2, 0.4, 0.6,\n",
       "                                                          0.8, 1.2, 1.6],\n",
       "                                        'max_depth': [1, 2],\n",
       "                                        'n_estimators': [100, 200, 300, 400,\n",
       "                                                         500, 500],\n",
       "                                        'random_state': [0, 27, 42]},\n",
       "                   scoring='roc_auc', verbose=5)"
      ]
     },
     "execution_count": 24,
     "metadata": {},
     "output_type": "execute_result"
    }
   ],
   "source": [
    "gb_clf_u15.fit(X_train_gb15, y_train_under.values.ravel())"
   ]
  },
  {
   "cell_type": "code",
   "execution_count": 25,
   "metadata": {},
   "outputs": [
    {
     "name": "stdout",
     "output_type": "stream",
     "text": [
      "Best parameter set found on training set:\n",
      "\n",
      "{'random_state': 27, 'n_estimators': 300, 'max_depth': 1, 'learning_rate': 0.4}\n",
      "Best estimator set found on training set:\n",
      "\n",
      "GradientBoostingClassifier(learning_rate=0.4, max_depth=1, n_estimators=300,\n",
      "                           random_state=27)\n"
     ]
    },
    {
     "data": {
      "text/plain": [
       "GradientBoostingClassifier(learning_rate=0.4, max_depth=1, n_estimators=300,\n",
       "                           random_state=27)"
      ]
     },
     "execution_count": 25,
     "metadata": {},
     "output_type": "execute_result"
    }
   ],
   "source": [
    "print(\"Best parameter set found on training set:\")\n",
    "print()\n",
    "print(gb_clf_u15.best_params_)\n",
    "print(\"Best estimator set found on training set:\")\n",
    "print()\n",
    "print(gb_clf_u15.best_estimator_)\n",
    "\n",
    "# Save the best estimator statement for use below\n",
    "gb_clf_u15_best = gb_clf_u15.best_estimator_\n",
    "gb_clf_u15_best"
   ]
  },
  {
   "cell_type": "markdown",
   "metadata": {},
   "source": [
    "### Top 15 parameters\n",
    "\n",
    "GradientBoostingClassifier(learning_rate=0.4, max_depth=1, n_estimators=300,\n",
    "                           random_state=27)"
   ]
  },
  {
   "cell_type": "code",
   "execution_count": 26,
   "metadata": {},
   "outputs": [],
   "source": [
    "y_pred_gbu15 = gb_clf_u15_best.predict(X_test_gb15)\n",
    "\n",
    "y_pred_class_gbu15 = gb_clf_u15_best.predict_proba(X_test_gb15)"
   ]
  },
  {
   "cell_type": "code",
   "execution_count": 27,
   "metadata": {},
   "outputs": [
    {
     "name": "stdout",
     "output_type": "stream",
     "text": [
      "confusion matrix: \n",
      "[[17645  8890]\n",
      " [ 1433  1880]]\n",
      " \n",
      " \n",
      "classification report: \n",
      "              precision    recall  f1-score   support\n",
      "\n",
      "           0       0.92      0.66      0.77     26535\n",
      "           1       0.17      0.57      0.27      3313\n",
      "\n",
      "    accuracy                           0.65     29848\n",
      "   macro avg       0.55      0.62      0.52     29848\n",
      "weighted avg       0.84      0.65      0.72     29848\n",
      "\n"
     ]
    }
   ],
   "source": [
    "print(\"confusion matrix: \")\n",
    "print(metrics.confusion_matrix(y_test,y_pred_gbu15))\n",
    "print(\" \")\n",
    "print(\" \")\n",
    "print(\"classification report: \") \n",
    "print(metrics.classification_report(y_test,y_pred_gbu15))"
   ]
  },
  {
   "cell_type": "code",
   "execution_count": 28,
   "metadata": {},
   "outputs": [
    {
     "name": "stdout",
     "output_type": "stream",
     "text": [
      "ROC AUC score (test):  0.6631479498087002\n"
     ]
    }
   ],
   "source": [
    "# limit to probability for class = 1 \n",
    "base_probs_test_gbu15 = y_pred_class_gbu15[:,1]\n",
    "\n",
    "# calculate roc_auc_score\n",
    "print(\"ROC AUC score (test): \",metrics.roc_auc_score(y_test, base_probs_test_gbu15))"
   ]
  },
  {
   "cell_type": "code",
   "execution_count": 29,
   "metadata": {},
   "outputs": [
    {
     "name": "stdout",
     "output_type": "stream",
     "text": [
      "confusion matrix: \n",
      "[[5332 2524]\n",
      " [3231 4625]]\n",
      " \n",
      " \n",
      "classification report: \n",
      "              precision    recall  f1-score   support\n",
      "\n",
      "           0       0.62      0.68      0.65      7856\n",
      "           1       0.65      0.59      0.62      7856\n",
      "\n",
      "    accuracy                           0.63     15712\n",
      "   macro avg       0.63      0.63      0.63     15712\n",
      "weighted avg       0.63      0.63      0.63     15712\n",
      "\n",
      "ROC AUC score (train):  0.6864905169320685\n"
     ]
    }
   ],
   "source": [
    "y_pred_train_gbu15 = gb_clf_u15_best.predict(X_train_gb15)\n",
    "\n",
    "# limit to probability for class = 1 \n",
    "y_pred_train_class_gbu15 = gb_clf_u15_best.predict_proba(X_train_gb15)\n",
    "\n",
    "base_probs_train_gbu15 = y_pred_train_class_gbu15[:,1]\n",
    "\n",
    "print(\"confusion matrix: \")\n",
    "print(metrics.confusion_matrix(y_train_under,y_pred_train_gbu15))\n",
    "print(\" \")\n",
    "print(\" \")\n",
    "print(\"classification report: \") \n",
    "print(metrics.classification_report(y_train_under,y_pred_train_gbu15))\n",
    "\n",
    "# calculate roc_auc_score\n",
    "print(\"ROC AUC score (train): \",metrics.roc_auc_score(y_train_under, base_probs_train_gbu15))"
   ]
  }
 ],
 "metadata": {
  "kernelspec": {
   "display_name": "Python 3",
   "language": "python",
   "name": "python3"
  },
  "language_info": {
   "codemirror_mode": {
    "name": "ipython",
    "version": 3
   },
   "file_extension": ".py",
   "mimetype": "text/x-python",
   "name": "python",
   "nbconvert_exporter": "python",
   "pygments_lexer": "ipython3",
   "version": "3.7.9"
  }
 },
 "nbformat": 4,
 "nbformat_minor": 4
}
