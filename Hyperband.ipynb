{
 "cells": [
  {
   "cell_type": "markdown",
   "metadata": {},
   "source": [
    "### Running notes and code snippets for Hyperband hyperparameter tuning\n",
    "\n",
    "#### Sandra 11/30/2020"
   ]
  },
  {
   "cell_type": "markdown",
   "metadata": {},
   "source": [
    "## Hyperband is better than Randomized which is better than Grid. :)\n",
    "\n",
    "https://github.com/zygmuntz/hyperband"
   ]
  },
  {
   "cell_type": "code",
   "execution_count": null,
   "metadata": {},
   "outputs": [],
   "source": [
    "!pip install hyperband"
   ]
  },
  {
   "cell_type": "code",
   "execution_count": null,
   "metadata": {},
   "outputs": [],
   "source": [
    "from hyperband import Hyperband\n",
    "from defs.gb import get_params, try_params\n",
    "\n",
    "#hb = Hyperband( get_params, try_params )\n",
    "#results = hb.run()"
   ]
  },
  {
   "cell_type": "code",
   "execution_count": null,
   "metadata": {},
   "outputs": [],
   "source": [
    "# Hyperband for random forests\n",
    "\n",
    "space = {\n",
    "    'criterion': hp.choice( 'c', ( 'gini', 'entropy' )),\n",
    "    'bootstrap': hp.choice( 'b', ( True, False )),\n",
    "    'class_weight': hp.choice( 'cw', ( 'balanced', 'balanced_subsample', None )),\n",
    "    'max_depth': hp.quniform( 'md', 2, 10, 1 ),\n",
    "    'max_features': hp.choice( 'mf', ( 'sqrt', 'log2', None )),\n",
    "    'min_samples_split': hp.quniform( 'msp', 2, 20, 1 ),\n",
    "    'min_samples_leaf': hp.quniform( 'msl', 1, 10, 1 ),\n",
    "}"
   ]
  },
  {
   "cell_type": "code",
   "execution_count": null,
   "metadata": {},
   "outputs": [],
   "source": [
    "# Hyperband for Gradient Boosting\n",
    "\n",
    "space = {\n",
    "    'learning_rate': hp.uniform( 'lr', 0.01, 0.2 ),\n",
    "    'subsample': hp.uniform( 'ss', 0.8, 1.0 ),\n",
    "    'max_depth': hp.quniform( 'md', 2, 10, 1 ),\n",
    "    'max_features': hp.choice( 'mf', ( 'sqrt', 'log2', None )),\n",
    "    'min_samples_leaf': hp.quniform( 'mss', 1, 10, 1 ),\n",
    "    'min_samples_split': hp.quniform( 'mss', 2, 20, 1 )\n",
    "}"
   ]
  },
  {
   "cell_type": "code",
   "execution_count": null,
   "metadata": {},
   "outputs": [],
   "source": [
    "#\"function (and parameter space) definitions for hyperband\"\n",
    "#\"binary classification with gradient boosting\"\n",
    "\n",
    "from common_defs import *\n",
    "\n",
    "# a dict with x_train, y_train, x_test, y_test\n",
    "#from load_data import data\n",
    "\n",
    "from sklearn.ensemble import GradientBoostingClassifier as GB\n",
    "\n",
    "#\n",
    "\n",
    "trees_per_iteration = 5\n",
    "\n",
    "# subsample is good for showing out-of-bag errors \n",
    "# when fitting in verbose mode, and probably not much else\n",
    "space = {\n",
    "\t'learning_rate': hp.uniform( 'lr', 0.01, 0.2 ),\n",
    "\t'subsample': hp.uniform( 'ss', 0.8, 1.0 ),\n",
    "\t'max_depth': hp.quniform( 'md', 2, 10, 1 ),\n",
    "\t'max_features': hp.choice( 'mf', ( 'sqrt', 'log2', None )),\n",
    "\t'min_samples_leaf': hp.quniform( 'mss', 1, 10, 1 ),\n",
    "\t'min_samples_split': hp.quniform( 'mss', 2, 20, 1 )\n",
    "}\n",
    "\n",
    "def get_params():\n",
    "\n",
    "\tparams = sample( space )\n",
    "\treturn handle_integers( params )\n",
    "\n",
    "#\n",
    "\n",
    "def try_params( n_iterations, params ):\n",
    "\n",
    "\tn_estimators = int( round( n_iterations * trees_per_iteration ))\n",
    "\tprint \"n_estimators:\", n_estimators\n",
    "\tpprint( params )\n",
    "\n",
    "\tclf = GB( n_estimators = n_estimators, verbose = 0, **params )\n",
    "\t\n",
    "\treturn train_and_eval_sklearn_classifier( clf, data )"
   ]
  }
 ],
 "metadata": {
  "kernelspec": {
   "display_name": "Python 3",
   "language": "python",
   "name": "python3"
  },
  "language_info": {
   "codemirror_mode": {
    "name": "ipython",
    "version": 3
   },
   "file_extension": ".py",
   "mimetype": "text/x-python",
   "name": "python",
   "nbconvert_exporter": "python",
   "pygments_lexer": "ipython3",
   "version": "3.7.3"
  }
 },
 "nbformat": 4,
 "nbformat_minor": 2
}
